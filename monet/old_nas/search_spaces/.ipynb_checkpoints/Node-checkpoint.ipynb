{
 "cells": [
  {
   "cell_type": "code",
   "execution_count": 1,
   "id": "7ac9a4fa-717d-4e19-8a31-84892ca55a7f",
   "metadata": {},
   "outputs": [],
   "source": [
    "import os\n",
    "import importlib\n",
    "import copy\n",
    "from tqdm import tqdm"
   ]
  },
  {
   "cell_type": "code",
   "execution_count": 2,
   "id": "e35dcfee-c4d7-4e2f-afbb-57eb0a0e5a5a",
   "metadata": {},
   "outputs": [
    {
     "name": "stderr",
     "output_type": "stream",
     "text": [
      "2024-09-23 10:55:04.650507: I tensorflow/tsl/cuda/cudart_stub.cc:28] Could not find cuda drivers on your machine, GPU will not be used.\n",
      "2024-09-23 10:55:07.136684: I tensorflow/tsl/cuda/cudart_stub.cc:28] Could not find cuda drivers on your machine, GPU will not be used.\n",
      "2024-09-23 10:55:07.140624: I tensorflow/core/platform/cpu_feature_guard.cc:182] This TensorFlow binary is optimized to use available CPU instructions in performance-critical operations.\n",
      "To enable the following instructions: AVX2 AVX512F FMA, in other operations, rebuild TensorFlow with the appropriate compiler flags.\n",
      "2024-09-23 10:55:20.876885: W tensorflow/compiler/tf2tensorrt/utils/py_utils.cc:38] TF-TRT Warning: Could not find TensorRT\n"
     ]
    }
   ],
   "source": [
    "from nasbench import api  # NB101\n",
    "from nas_201_api import NASBench201API as API  # NB201\n",
    "import nasbench301 as nb  # NB301\n",
    "import nats_bench  # NATS"
   ]
  },
  {
   "cell_type": "code",
   "execution_count": 3,
   "id": "f1471d57-57a2-4747-8dc9-f678a9b2379f",
   "metadata": {
    "scrolled": true
   },
   "outputs": [],
   "source": [
    "# models_1_0_dir = \"../api/nasbench301_models_v1.0/nb_models\"\n",
    "# model_paths = {\n",
    "#     model_name: os.path.join(models_1_0_dir, '{}_v1.0'.format(model_name))\n",
    "#     for model_name in ['xgb', 'lgb_runtime']\n",
    "# }\n",
    "# NB_301_performance_model = nb.load_ensemble(model_paths['xgb'])\n",
    "\n",
    "# nas_bench_201_api = API('../api/NAS-Bench-201-v1_1-096897.pth', verbose=False)\n",
    "\n",
    "# nas_bench_101_api = api.NASBench(\"../api/nasbench_full.tfrecord\")\n",
    "\n",
    "nats_bench_api = nats_bench.create(\"../api/NATS-sss-v1_0-50262-simple\", \"sss\", fast_mode=True, verbose=False)"
   ]
  },
  {
   "cell_type": "code",
   "execution_count": 24,
   "id": "bd374d0e-7b97-4210-8b85-8079bc0d9a25",
   "metadata": {},
   "outputs": [],
   "source": [
    "class MyNode:\n",
    "    \"\"\"\n",
    "    Représente un noeud dans l'arbre de recherche.\n",
    "    \"\"\"\n",
    "\n",
    "    def __init__(self, state, move=None, parent=None, sequence=[], zobrist_table=None):\n",
    "        self.state = state\n",
    "        self.move = move\n",
    "        self.parent = parent\n",
    "        self.children = []\n",
    "        self.results = []\n",
    "        self.amaf = []  # For RAVE and variants\n",
    "        self.sequence = sequence  # For Nested MCS and variants\n",
    "        self.hash = None\n",
    "        if zobrist_table is not None:\n",
    "            self.hash = self.calculate_zobrist_hash(zobrist_table)\n",
    "\n",
    "    def get_children(self):\n",
    "        return self.children\n",
    "\n",
    "    def is_leaf(self):\n",
    "        return True if len(self.children) == 0 else False\n",
    "\n",
    "    def is_terminal(self):\n",
    "        return self.state.is_complete()\n",
    "\n",
    "    def get_action_tuples(self):\n",
    "        return self.state.get_action_tuples()\n",
    "\n",
    "    def calculate_zobrist_hash(self, zobrist_table):\n",
    "        return self.state.calculate_zobrist_hash(zobrist_table)\n",
    "\n",
    "    def add_zobrist(self, zobrist_table):\n",
    "        ### Normalement cette fonction est seulement censée être utilisée pour la racine.\n",
    "        if self.hash is None:  # Ne pas recalculer si on a déjà calculé\n",
    "            self.hash = self.calculate_zobrist_hash(zobrist_table)\n",
    "\n",
    "    def get_reward(self, api, df=None):\n",
    "        return self.state.get_reward(api, df)\n",
    "\n",
    "    def get_metric(self, metric, api, df=None):\n",
    "        return self.state.get_metric(metric, api, df)\n",
    "\n",
    "    def play_action(self, action):\n",
    "        self.state.play_action(*action)\n",
    "\n",
    "    def has_predecessor(self, node):\n",
    "        \"\"\"\n",
    "        Return True if self is a child of node (can be several generations)\n",
    "        :param node:\n",
    "        :return:\n",
    "        \"\"\"\n",
    "        temp_parent = self.parent\n",
    "        while temp_parent.parent is not None:\n",
    "            if temp_parent == node:\n",
    "                return True\n",
    "            temp_parent = temp_parent.parent\n",
    "        if temp_parent == node:  # Include root (pas sûr)\n",
    "            return True\n",
    "        return False"
   ]
  },
  {
   "cell_type": "code",
   "execution_count": 38,
   "id": "8eab2acb-5f76-4dd9-a312-1116731c4ff3",
   "metadata": {},
   "outputs": [],
   "source": [
    "# NAS-Bench-101\n",
    "from nas_bench_101 import NASBench101Node\n",
    "importlib.reload(NASBench101Node)\n",
    "from nas_bench_101.NASBench101Node import *\n",
    "\n",
    "# NAS-Bench-201\n",
    "from nas_bench_201 import NASBench201Node\n",
    "importlib.reload(NASBench201Node)\n",
    "from nas_bench_201.NASBench201Node import *\n",
    "\n",
    "# NAS-Bench-301\n",
    "from nas_bench_301 import NASBench301Node\n",
    "importlib.reload(NASBench301Node)\n",
    "from nas_bench_301.NASBench301Node import *\n",
    "\n",
    "# NATS-Bench\n",
    "from nats_bench_dataset import NATSBenchNode\n",
    "importlib.reload(NATSBenchNode)\n",
    "from nats_bench_dataset.NATSBenchNode import *"
   ]
  },
  {
   "cell_type": "code",
   "execution_count": 40,
   "id": "62d1a530-b6a3-4f63-ae0e-733ab7179eee",
   "metadata": {},
   "outputs": [],
   "source": [
    "# state_101 = NASBench101Cell(n_vertices=7)\n",
    "# state_201 = NASBench201Cell(n_vertices=4)\n",
    "# state_301 = DARTSState((DARTSCell(), DARTSCell()))\n",
    "state_nats = NATSBenchSizeCell()"
   ]
  },
  {
   "cell_type": "code",
   "execution_count": 41,
   "id": "b637d164-c47c-46de-9f1c-88b206545a81",
   "metadata": {},
   "outputs": [],
   "source": [
    "from search_algorithms.MCTS import mcts_agent\n",
    "importlib.reload(mcts_agent)\n",
    "from search_algorithms.MCTS.mcts_agent import *\n",
    "\n",
    "from search_algorithms.MCTS import nested\n",
    "importlib.reload(nested)\n",
    "from search_algorithms.MCTS.nested import *"
   ]
  },
  {
   "cell_type": "code",
   "execution_count": 42,
   "id": "5d96c4b4-890c-485a-9987-7ea9084bb7d8",
   "metadata": {},
   "outputs": [],
   "source": [
    "dic = {\n",
    "       # \"NASBench101\": {\"state\": state_101, \n",
    "       #                 \"api\": nas_bench_101_api},\n",
    "       # \"NASBench201\": {\"state\": state_201, \n",
    "       #                 \"api\": nas_bench_201_api}}\n",
    "       # \"NASBench301\": {\"state\": state_301, \n",
    "       #                 \"api\": NB_301_performance_model},\n",
    "       \"NATSBench\": {\"state\": state_nats, \n",
    "                       \"api\": nats_bench_api}}"
   ]
  },
  {
   "cell_type": "code",
   "execution_count": 43,
   "id": "7143c3ff-b82e-4161-94aa-677cf90c0a43",
   "metadata": {
    "scrolled": true
   },
   "outputs": [
    {
     "name": "stdout",
     "output_type": "stream",
     "text": [
      "NATSBench\n"
     ]
    },
    {
     "name": "stderr",
     "output_type": "stream",
     "text": [
      "Current best reward : 71.3400: 100%|████████| 2500/2500 [00:38<00:00, 65.31it/s]"
     ]
    },
    {
     "name": "stdout",
     "output_type": "stream",
     "text": [
      "Sequence is [(4, 64), (3, 48), (1, 64), (2, 48), (0, 64)] with score 71.33999998779296\n",
      "True\n"
     ]
    },
    {
     "name": "stderr",
     "output_type": "stream",
     "text": [
      "\n"
     ]
    }
   ],
   "source": [
    "for name, values in dic.items():\n",
    "    print(name)\n",
    "    rn = MyNode(state=copy.deepcopy(values[\"state\"]))\n",
    "    # rn.state.initialize_zobrist_table()\n",
    "    mc = NRPA(root_node=rn, level=2, params_path=\"/userdata/T0259728/projets/nas_ntk/utils/params.json\", api=values[\"api\"])\n",
    "    mc.n_iter= 50\n",
    "    node, _, _ = mc.main_loop()\n",
    "    print(node.is_terminal())"
   ]
  },
  {
   "cell_type": "code",
   "execution_count": 18,
   "id": "f29df33c-8ec9-4db7-bf24-ee2dccf33707",
   "metadata": {},
   "outputs": [
    {
     "data": {
      "text/plain": [
       "[<matplotlib.lines.Line2D at 0x7fb45bb96950>]"
      ]
     },
     "execution_count": 18,
     "metadata": {},
     "output_type": "execute_result"
    },
    {
     "data": {
      "image/png": "[encoded data removed]",
      "text/plain": [
       "<Figure size 640x480 with 1 Axes>"
      ]
     },
     "metadata": {},
     "output_type": "display_data"
    }
   ],
   "source": [
    "import matplotlib.pyplot as plt\n",
    "plt.plot(mc.best_reward)"
   ]
  },
  {
   "cell_type": "code",
   "execution_count": 19,
   "id": "16388526-c7cb-4b2d-8509-0c1f28035114",
   "metadata": {},
   "outputs": [
    {
     "data": {
      "text/plain": [
       "71.33999998779296"
      ]
     },
     "execution_count": 19,
     "metadata": {},
     "output_type": "execute_result"
    }
   ],
   "source": [
    "mc.best_reward[-1]"
   ]
  },
  {
   "cell_type": "code",
   "execution_count": 44,
   "id": "2c12f3a8-8ada-426c-bdde-d9c1dd9aaf69",
   "metadata": {},
   "outputs": [],
   "source": [
    "from search_algorithms.MCTS.nested import NestedMCS\n",
    "class ParetoNRPA(NestedMCS):\n",
    "\n",
    "    def __init__(self, root_node: NestedNode, level, api=None, params_path=None):\n",
    "        super().__init__(root_node, level, api=api, params_path=params_path)\n",
    "        self.policy = {}\n",
    "        # self.n_iter = 100\n",
    "        # self.alpha = .01  # Learning rate\n",
    "        if self.root.state.zobrist_table is None: self.root.state.initialize_zobrist_table()\n",
    "        self.pareto_front = []\n",
    "        self.max_pareto_size = 40\n",
    "\n",
    "    def read_params(self, path):\n",
    "        super().read_params(path)\n",
    "        with open(path, \"r\") as f:\n",
    "            dic = json.load(f)\n",
    "        self.n_iter = dic[\"mcts\"][\"nrpa_n_iter\"]\n",
    "        self.alpha = dic[\"mcts\"][\"nrpa_alpha\"]\n",
    "        self.softmax_temp = dic[\"mcts\"][\"softmax_temp\"]\n",
    "\n",
    "    def _code(self, node, move):\n",
    "\n",
    "        if move == None:\n",
    "            ### SEULEMENT POUR LA RACINE DE L'ARBRE A PRIORI\n",
    "            return node.hash\n",
    "\n",
    "        state_code = node.hash\n",
    "        code = str(state_code) \n",
    "        code = \"\"  # J'enlève le hashage de zobrist pour le moment # justepourvoir\n",
    "        for i in range(len(move)):\n",
    "            code = code + str(move[i])\n",
    "\n",
    "        return code\n",
    "\n",
    "    def adapt(self, sequence):\n",
    "        node_type = type(self.root)\n",
    "        node = node_type(state=copy.deepcopy(self.root.state), move=None, parent=None, sequence=[])\n",
    "\n",
    "        node.hash = node.calculate_zobrist_hash(self.root.state.zobrist_table)\n",
    "        pol_prime = self.policy.copy()\n",
    "        for action in sequence:\n",
    "            code = self._code(node, action)\n",
    "            # if code not in pol_prime:\n",
    "            #     print(\"Erreur 0\")\n",
    "            #     pol_prime[code] = 0\n",
    "            pol_prime[code] += self.alpha\n",
    "            z = 0\n",
    "            moves = node.get_action_tuples()\n",
    "            for m in moves:\n",
    "                move_code = self._code(node, m)\n",
    "                # if move_code not in self.policy:\n",
    "                #     print(\"Erreur 1\")\n",
    "                #     self.policy[move_code] = 0\n",
    "                z += np.exp(self.policy[move_code])\n",
    "            for m in moves:\n",
    "                move_code = self._code(node, m)\n",
    "                # if move_code not in pol_prime:\n",
    "                #     print(\"Erreur 2\")\n",
    "                #     pol_prime[move_code] = 0\n",
    "                pol_prime[move_code] -= self.alpha * (np.exp(self.policy[move_code]) / z)\n",
    "\n",
    "            node.play_action(action)\n",
    "            node.hash = node.calculate_zobrist_hash(self.root.state.zobrist_table)\n",
    "\n",
    "        return pol_prime\n",
    "\n",
    "    def _playout(self, node: NestedNode):\n",
    "        node_type = type(node)\n",
    "        playout_node = node_type(state=copy.deepcopy(node.state), move=copy.deepcopy(node.move),\n",
    "                                 parent=copy.deepcopy(node.parent), sequence=copy.deepcopy(node.sequence))\n",
    "        sequence = playout_node.sequence\n",
    "        playout_node.hash = playout_node.calculate_zobrist_hash(self.root.state.zobrist_table)\n",
    "\n",
    "        while not playout_node.is_terminal():\n",
    "\n",
    "            # Vérifier si la policy a une valeur pour ce noeud\n",
    "            if self._code(playout_node, playout_node.move) not in self.policy:\n",
    "                self.policy[self._code(playout_node, playout_node.move)] = 0\n",
    "\n",
    "            available_actions = playout_node.get_action_tuples()\n",
    "            probabilities = []\n",
    "            for move in available_actions:\n",
    "                if self._code(playout_node, move) not in self.policy:\n",
    "                    self.policy[self._code(playout_node, move)] = 0\n",
    "\n",
    "            policy_values = [self.policy[self._code(playout_node, move)] for move in\n",
    "                             available_actions]  # Calcule la probabilité de sélectionner chaque action avec la policy\n",
    "                             \n",
    "            probabilities = softmax_temp(np.array(policy_values), self.softmax_temp)\n",
    "            # if len(self.best_reward) % 100 == 0:\n",
    "            #     pprint(list(zip(available_actions, pplayout_node# Used because available_actions is not 1-dimensional\n",
    "            action_index = np.random.choice(np.arange(len(available_actions)), p=probabilities)\n",
    "            action = available_actions[action_index]  # Used because available_actions is not 1-dimensional\n",
    "            \n",
    "            sequence.append(action)\n",
    "            playout_node.play_action(action)\n",
    "            playout_node.hash = playout_node.calculate_zobrist_hash(self.root.state.zobrist_table)\n",
    "\n",
    "        reward = playout_node.get_reward(self.api, self.df)\n",
    "        n_params = playout_node.get_metric(\"n_params\", self.api, self.df)\n",
    "\n",
    "        del playout_node\n",
    "        return reward, n_params, sequence\n",
    "\n",
    "    def nrpa(self, node, level):\n",
    "\n",
    "        if level == 0:\n",
    "            self.pbar.update(1)\n",
    "            self.pbar.set_description(f\"Current best reward : {self.best_reward_value:.4f}\")\n",
    "            # if (len(self.rewards)+1) % 1000 == 0:\n",
    "            #     f, ax = plt.subplots(1,1)\n",
    "            #     ax.plot(running_avg(self.rewards, 10))\n",
    "            #     f.savefig(\"rewards.png\")\n",
    "            #     plt.close(f)\n",
    "            #     f, ax = plt.subplots(1,1)\n",
    "            #     ax.plot(running_avg(self.best_reward, 10))\n",
    "            #     f.savefig(\"best_rewards.png\")\n",
    "            #     plt.close(f)\n",
    "            #     node_type = type(self.root)\n",
    "            #     playout_node = node_type(copy.deepcopy(self.root.state), sequence=[])\n",
    "            #     playout_node.hash = playout_node.calculate_zobrist_hash(self.root.state.zobrist_table)\n",
    "\n",
    "            #     act = playout_node.get_action_tuples()\n",
    "            #     probas = softmax_temp(np.array([self.policy[self._code(playout_node, move)] for move in act]), self.softmax_temp)\n",
    "\n",
    "            #     f, ax = plt.subplots(1,1)\n",
    "            #     df = pd.DataFrame({\"action\": act, \"probability\": probas}).sort_values('probability', ascending=False)\n",
    "            #     sns.barplot(df.iloc[:20], x=\"action\", y=\"probability\", color=\"#3d405b\")\n",
    "            #     plt.xticks(rotation=90)\n",
    "            #     f.savefig(\"best_actions.png\")\n",
    "            #     plt.close(f)\n",
    "            #     print(f\"[{len(self.rewards)}/{self.n_iter ** self.level}] Best reward: {self.best_reward_value}\")\n",
    "            \n",
    "            score, sequence = self._playout(self.root)\n",
    "            self.rewards.append(score)\n",
    "            if score > self.best_reward_value:\n",
    "                self.best_reward_value = score\n",
    "                # print(f\"[{len(self.rewards)}/{self.n_iter ** self.level}] Best reward: {self.best_reward_value}\")\n",
    "\n",
    "            self.best_reward.append(self.best_reward_value)\n",
    "            return score, sequence\n",
    "\n",
    "        else:\n",
    "            # For nesting levels >= 1\n",
    "            best_score = -1\n",
    "            best_sequence = []\n",
    "            ## BREAK CONDITION\n",
    "            # if len(self.rewards) > 5000:\n",
    "            #     return best_score, best_sequence\n",
    "\n",
    "            for i in range(self.n_iter):\n",
    "                t1 = time.time()\n",
    "                reward, sequence = self.nrpa(node, level - 1)\n",
    "                t2 = time.time()\n",
    "                # if level == 2:\n",
    "                #     print(f\"NRPA search at level {level - 1} has taken {(t2-t1):.2f} seconds\")\n",
    "                if reward >= best_score:\n",
    "                    best_score = reward\n",
    "                    best_sequence = sequence\n",
    "                self.policy = self.adapt(best_sequence)\n",
    "\n",
    "            return best_score, best_sequence\n",
    "\n",
    "    def main_loop(self):\n",
    "        node = self.root\n",
    "        pol = {}\n",
    "        self.pbar = tqdm(total=self.n_iter ** self.level, position=0, leave=True)\n",
    "        t1 = time.time()\n",
    "        reward, sequence = self.nrpa(node, self.level)\n",
    "        t2 = time.time()\n",
    "        self.pbar.close()\n",
    "        print(f\"Sequence is {sequence} with score {reward}\")\n",
    "        for action in sequence:\n",
    "            node.play_action(action)\n",
    "        return node, self.rewards, self.best_reward"
   ]
  },
  {
   "cell_type": "code",
   "execution_count": 23,
   "id": "06247d46-d806-47f0-96de-6c4dcede9a32",
   "metadata": {},
   "outputs": [
    {
     "name": "stdout",
     "output_type": "stream",
     "text": [
      "NATSBench\n"
     ]
    },
    {
     "name": "stderr",
     "output_type": "stream",
     "text": [
      "Current best reward : 70.3000:   4%|▎         | 93/2500 [00:02<01:04, 37.26it/s]"
     ]
    },
    {
     "ename": "KeyboardInterrupt",
     "evalue": "",
     "output_type": "error",
     "traceback": [
      "\u001b[0;31m---------------------------------------------------------------------------\u001b[0m",
      "\u001b[0;31mKeyboardInterrupt\u001b[0m                         Traceback (most recent call last)",
      "Cell \u001b[0;32mIn[23], line 7\u001b[0m\n\u001b[1;32m      5\u001b[0m mc \u001b[38;5;241m=\u001b[39m ParetoNRPA(root_node\u001b[38;5;241m=\u001b[39mrn, level\u001b[38;5;241m=\u001b[39m\u001b[38;5;241m2\u001b[39m, params_path\u001b[38;5;241m=\u001b[39m\u001b[38;5;124m\"\u001b[39m\u001b[38;5;124m/userdata/T0259728/projets/nas_ntk/utils/params.json\u001b[39m\u001b[38;5;124m\"\u001b[39m, api\u001b[38;5;241m=\u001b[39mvalues[\u001b[38;5;124m\"\u001b[39m\u001b[38;5;124mapi\u001b[39m\u001b[38;5;124m\"\u001b[39m])\n\u001b[1;32m      6\u001b[0m mc\u001b[38;5;241m.\u001b[39mn_iter\u001b[38;5;241m=\u001b[39m \u001b[38;5;241m50\u001b[39m\n\u001b[0;32m----> 7\u001b[0m node, _, _ \u001b[38;5;241m=\u001b[39m \u001b[43mmc\u001b[49m\u001b[38;5;241;43m.\u001b[39;49m\u001b[43mmain_loop\u001b[49m\u001b[43m(\u001b[49m\u001b[43m)\u001b[49m\n\u001b[1;32m      8\u001b[0m \u001b[38;5;28mprint\u001b[39m(node\u001b[38;5;241m.\u001b[39mis_terminal())\n",
      "Cell \u001b[0;32mIn[22], line 168\u001b[0m, in \u001b[0;36mParetoNRPA.main_loop\u001b[0;34m(self)\u001b[0m\n\u001b[1;32m    166\u001b[0m \u001b[38;5;28mself\u001b[39m\u001b[38;5;241m.\u001b[39mpbar \u001b[38;5;241m=\u001b[39m tqdm(total\u001b[38;5;241m=\u001b[39m\u001b[38;5;28mself\u001b[39m\u001b[38;5;241m.\u001b[39mn_iter \u001b[38;5;241m*\u001b[39m\u001b[38;5;241m*\u001b[39m \u001b[38;5;28mself\u001b[39m\u001b[38;5;241m.\u001b[39mlevel, position\u001b[38;5;241m=\u001b[39m\u001b[38;5;241m0\u001b[39m, leave\u001b[38;5;241m=\u001b[39m\u001b[38;5;28;01mTrue\u001b[39;00m)\n\u001b[1;32m    167\u001b[0m t1 \u001b[38;5;241m=\u001b[39m time\u001b[38;5;241m.\u001b[39mtime()\n\u001b[0;32m--> 168\u001b[0m reward, sequence \u001b[38;5;241m=\u001b[39m \u001b[38;5;28;43mself\u001b[39;49m\u001b[38;5;241;43m.\u001b[39;49m\u001b[43mnrpa\u001b[49m\u001b[43m(\u001b[49m\u001b[43mnode\u001b[49m\u001b[43m,\u001b[49m\u001b[43m \u001b[49m\u001b[38;5;28;43mself\u001b[39;49m\u001b[38;5;241;43m.\u001b[39;49m\u001b[43mlevel\u001b[49m\u001b[43m)\u001b[49m\n\u001b[1;32m    169\u001b[0m t2 \u001b[38;5;241m=\u001b[39m time\u001b[38;5;241m.\u001b[39mtime()\n\u001b[1;32m    170\u001b[0m \u001b[38;5;28mself\u001b[39m\u001b[38;5;241m.\u001b[39mpbar\u001b[38;5;241m.\u001b[39mclose()\n",
      "Cell \u001b[0;32mIn[22], line 152\u001b[0m, in \u001b[0;36mParetoNRPA.nrpa\u001b[0;34m(self, node, level)\u001b[0m\n\u001b[1;32m    150\u001b[0m \u001b[38;5;28;01mfor\u001b[39;00m i \u001b[38;5;129;01min\u001b[39;00m \u001b[38;5;28mrange\u001b[39m(\u001b[38;5;28mself\u001b[39m\u001b[38;5;241m.\u001b[39mn_iter):\n\u001b[1;32m    151\u001b[0m     t1 \u001b[38;5;241m=\u001b[39m time\u001b[38;5;241m.\u001b[39mtime()\n\u001b[0;32m--> 152\u001b[0m     reward, sequence \u001b[38;5;241m=\u001b[39m \u001b[38;5;28;43mself\u001b[39;49m\u001b[38;5;241;43m.\u001b[39;49m\u001b[43mnrpa\u001b[49m\u001b[43m(\u001b[49m\u001b[43mnode\u001b[49m\u001b[43m,\u001b[49m\u001b[43m \u001b[49m\u001b[43mlevel\u001b[49m\u001b[43m \u001b[49m\u001b[38;5;241;43m-\u001b[39;49m\u001b[43m \u001b[49m\u001b[38;5;241;43m1\u001b[39;49m\u001b[43m)\u001b[49m\n\u001b[1;32m    153\u001b[0m     t2 \u001b[38;5;241m=\u001b[39m time\u001b[38;5;241m.\u001b[39mtime()\n\u001b[1;32m    154\u001b[0m     \u001b[38;5;66;03m# if level == 2:\u001b[39;00m\n\u001b[1;32m    155\u001b[0m     \u001b[38;5;66;03m#     print(f\"NRPA search at level {level - 1} has taken {(t2-t1):.2f} seconds\")\u001b[39;00m\n",
      "Cell \u001b[0;32mIn[22], line 152\u001b[0m, in \u001b[0;36mParetoNRPA.nrpa\u001b[0;34m(self, node, level)\u001b[0m\n\u001b[1;32m    150\u001b[0m \u001b[38;5;28;01mfor\u001b[39;00m i \u001b[38;5;129;01min\u001b[39;00m \u001b[38;5;28mrange\u001b[39m(\u001b[38;5;28mself\u001b[39m\u001b[38;5;241m.\u001b[39mn_iter):\n\u001b[1;32m    151\u001b[0m     t1 \u001b[38;5;241m=\u001b[39m time\u001b[38;5;241m.\u001b[39mtime()\n\u001b[0;32m--> 152\u001b[0m     reward, sequence \u001b[38;5;241m=\u001b[39m \u001b[38;5;28;43mself\u001b[39;49m\u001b[38;5;241;43m.\u001b[39;49m\u001b[43mnrpa\u001b[49m\u001b[43m(\u001b[49m\u001b[43mnode\u001b[49m\u001b[43m,\u001b[49m\u001b[43m \u001b[49m\u001b[43mlevel\u001b[49m\u001b[43m \u001b[49m\u001b[38;5;241;43m-\u001b[39;49m\u001b[43m \u001b[49m\u001b[38;5;241;43m1\u001b[39;49m\u001b[43m)\u001b[49m\n\u001b[1;32m    153\u001b[0m     t2 \u001b[38;5;241m=\u001b[39m time\u001b[38;5;241m.\u001b[39mtime()\n\u001b[1;32m    154\u001b[0m     \u001b[38;5;66;03m# if level == 2:\u001b[39;00m\n\u001b[1;32m    155\u001b[0m     \u001b[38;5;66;03m#     print(f\"NRPA search at level {level - 1} has taken {(t2-t1):.2f} seconds\")\u001b[39;00m\n",
      "Cell \u001b[0;32mIn[22], line 133\u001b[0m, in \u001b[0;36mParetoNRPA.nrpa\u001b[0;34m(self, node, level)\u001b[0m\n\u001b[1;32m    130\u001b[0m     plt\u001b[38;5;241m.\u001b[39mclose(f)\n\u001b[1;32m    131\u001b[0m \u001b[38;5;66;03m#     print(f\"[{len(self.rewards)}/{self.n_iter ** self.level}] Best reward: {self.best_reward_value}\")\u001b[39;00m\n\u001b[0;32m--> 133\u001b[0m score, sequence \u001b[38;5;241m=\u001b[39m \u001b[38;5;28;43mself\u001b[39;49m\u001b[38;5;241;43m.\u001b[39;49m\u001b[43m_playout\u001b[49m\u001b[43m(\u001b[49m\u001b[38;5;28;43mself\u001b[39;49m\u001b[38;5;241;43m.\u001b[39;49m\u001b[43mroot\u001b[49m\u001b[43m)\u001b[49m\n\u001b[1;32m    134\u001b[0m \u001b[38;5;28mself\u001b[39m\u001b[38;5;241m.\u001b[39mrewards\u001b[38;5;241m.\u001b[39mappend(score)\n\u001b[1;32m    135\u001b[0m \u001b[38;5;28;01mif\u001b[39;00m score \u001b[38;5;241m>\u001b[39m \u001b[38;5;28mself\u001b[39m\u001b[38;5;241m.\u001b[39mbest_reward_value:\n",
      "Cell \u001b[0;32mIn[22], line 99\u001b[0m, in \u001b[0;36mParetoNRPA._playout\u001b[0;34m(self, node)\u001b[0m\n\u001b[1;32m     96\u001b[0m     playout_node\u001b[38;5;241m.\u001b[39mplay_action(action)\n\u001b[1;32m     97\u001b[0m     playout_node\u001b[38;5;241m.\u001b[39mhash \u001b[38;5;241m=\u001b[39m playout_node\u001b[38;5;241m.\u001b[39mcalculate_zobrist_hash(\u001b[38;5;28mself\u001b[39m\u001b[38;5;241m.\u001b[39mroot\u001b[38;5;241m.\u001b[39mstate\u001b[38;5;241m.\u001b[39mzobrist_table)\n\u001b[0;32m---> 99\u001b[0m reward \u001b[38;5;241m=\u001b[39m \u001b[43mplayout_node\u001b[49m\u001b[38;5;241;43m.\u001b[39;49m\u001b[43mget_reward\u001b[49m\u001b[43m(\u001b[49m\u001b[38;5;28;43mself\u001b[39;49m\u001b[38;5;241;43m.\u001b[39;49m\u001b[43mapi\u001b[49m\u001b[43m,\u001b[49m\u001b[43m \u001b[49m\u001b[38;5;28;43mself\u001b[39;49m\u001b[38;5;241;43m.\u001b[39;49m\u001b[43mdf\u001b[49m\u001b[43m)\u001b[49m\n\u001b[1;32m    101\u001b[0m \u001b[38;5;28;01mdel\u001b[39;00m playout_node\n\u001b[1;32m    102\u001b[0m \u001b[38;5;28;01mreturn\u001b[39;00m reward, sequence\n",
      "Cell \u001b[0;32mIn[9], line 39\u001b[0m, in \u001b[0;36mMyNode.get_reward\u001b[0;34m(self, api, df)\u001b[0m\n\u001b[1;32m     38\u001b[0m \u001b[38;5;28;01mdef\u001b[39;00m \u001b[38;5;21mget_reward\u001b[39m(\u001b[38;5;28mself\u001b[39m, api, df\u001b[38;5;241m=\u001b[39m\u001b[38;5;28;01mNone\u001b[39;00m):\n\u001b[0;32m---> 39\u001b[0m     \u001b[38;5;28;01mreturn\u001b[39;00m \u001b[38;5;28;43mself\u001b[39;49m\u001b[38;5;241;43m.\u001b[39;49m\u001b[43mstate\u001b[49m\u001b[38;5;241;43m.\u001b[39;49m\u001b[43mget_reward\u001b[49m\u001b[43m(\u001b[49m\u001b[43mapi\u001b[49m\u001b[43m,\u001b[49m\u001b[43m \u001b[49m\u001b[43mdf\u001b[49m\u001b[43m)\u001b[49m\n",
      "File \u001b[0;32m~/projets/nas_ntk/search_spaces/nats_bench_dataset/NATSBenchNode.py:78\u001b[0m, in \u001b[0;36mNATSBenchSizeCell.get_reward\u001b[0;34m(self, api, df)\u001b[0m\n\u001b[1;32m     76\u001b[0m index \u001b[38;5;241m=\u001b[39m api\u001b[38;5;241m.\u001b[39mquery_index_by_arch(state_str)\n\u001b[1;32m     77\u001b[0m \u001b[38;5;66;03m# 3. Fetch desired metric from API.\u001b[39;00m\n\u001b[0;32m---> 78\u001b[0m reward \u001b[38;5;241m=\u001b[39m \u001b[43mapi\u001b[49m\u001b[38;5;241;43m.\u001b[39;49m\u001b[43mget_more_info\u001b[49m\u001b[43m(\u001b[49m\u001b[43mindex\u001b[49m\u001b[43m,\u001b[49m\u001b[43m \u001b[49m\u001b[38;5;124;43m'\u001b[39;49m\u001b[38;5;124;43mcifar100\u001b[39;49m\u001b[38;5;124;43m'\u001b[39;49m\u001b[43m,\u001b[49m\u001b[43m \u001b[49m\u001b[43mhp\u001b[49m\u001b[38;5;241;43m=\u001b[39;49m\u001b[38;5;124;43m\"\u001b[39;49m\u001b[38;5;124;43m90\u001b[39;49m\u001b[38;5;124;43m\"\u001b[39;49m\u001b[43m)\u001b[49m[\u001b[38;5;124m\"\u001b[39m\u001b[38;5;124mtest-accuracy\u001b[39m\u001b[38;5;124m\"\u001b[39m]\n\u001b[1;32m     79\u001b[0m \u001b[38;5;66;03m# print(f\"[PLAYOUT] reward = {reward}\")\u001b[39;00m\n\u001b[1;32m     80\u001b[0m \u001b[38;5;28;01mreturn\u001b[39;00m reward\n",
      "File \u001b[0;32m~/miniconda3/lib/python3.11/site-packages/nats_bench/api_size.py:268\u001b[0m, in \u001b[0;36mNATSsize.get_more_info\u001b[0;34m(self, index, dataset, iepoch, hp, is_random)\u001b[0m\n\u001b[1;32m    259\u001b[0m     \u001b[38;5;28mprint\u001b[39m(\n\u001b[1;32m    260\u001b[0m         \u001b[38;5;124m\"\u001b[39m\u001b[38;5;132;01m{:}\u001b[39;00m\u001b[38;5;124m Call the get_more_info function with index=\u001b[39m\u001b[38;5;132;01m{:}\u001b[39;00m\u001b[38;5;124m, dataset=\u001b[39m\u001b[38;5;132;01m{:}\u001b[39;00m\u001b[38;5;124m, \u001b[39m\u001b[38;5;124m\"\u001b[39m\n\u001b[1;32m    261\u001b[0m         \u001b[38;5;124m\"\u001b[39m\u001b[38;5;124miepoch=\u001b[39m\u001b[38;5;132;01m{:}\u001b[39;00m\u001b[38;5;124m, hp=\u001b[39m\u001b[38;5;132;01m{:}\u001b[39;00m\u001b[38;5;124m, and is_random=\u001b[39m\u001b[38;5;132;01m{:}\u001b[39;00m\u001b[38;5;124m.\u001b[39m\u001b[38;5;124m\"\u001b[39m\u001b[38;5;241m.\u001b[39mformat(\n\u001b[1;32m    262\u001b[0m             time_string(), index, dataset, iepoch, hp, is_random\n\u001b[1;32m    263\u001b[0m         )\n\u001b[1;32m    264\u001b[0m     )\n\u001b[1;32m    265\u001b[0m index \u001b[38;5;241m=\u001b[39m \u001b[38;5;28mself\u001b[39m\u001b[38;5;241m.\u001b[39mquery_index_by_arch(\n\u001b[1;32m    266\u001b[0m     index\n\u001b[1;32m    267\u001b[0m )  \u001b[38;5;66;03m# To avoid the input is a string or an instance of a arch object\u001b[39;00m\n\u001b[0;32m--> 268\u001b[0m \u001b[38;5;28;43mself\u001b[39;49m\u001b[38;5;241;43m.\u001b[39;49m\u001b[43m_prepare_info\u001b[49m\u001b[43m(\u001b[49m\u001b[43mindex\u001b[49m\u001b[43m)\u001b[49m\n\u001b[1;32m    269\u001b[0m \u001b[38;5;28;01mif\u001b[39;00m index \u001b[38;5;129;01mnot\u001b[39;00m \u001b[38;5;129;01min\u001b[39;00m \u001b[38;5;28mself\u001b[39m\u001b[38;5;241m.\u001b[39march2infos_dict:\n\u001b[1;32m    270\u001b[0m     \u001b[38;5;28;01mraise\u001b[39;00m \u001b[38;5;167;01mValueError\u001b[39;00m(\u001b[38;5;124m\"\u001b[39m\u001b[38;5;124mDid not find \u001b[39m\u001b[38;5;132;01m{:}\u001b[39;00m\u001b[38;5;124m from arch2infos_dict.\u001b[39m\u001b[38;5;124m\"\u001b[39m\u001b[38;5;241m.\u001b[39mformat(index))\n",
      "File \u001b[0;32m~/miniconda3/lib/python3.11/site-packages/nats_bench/api_utils.py:395\u001b[0m, in \u001b[0;36mNASBenchMetaAPI._prepare_info\u001b[0;34m(self, index)\u001b[0m\n\u001b[1;32m    393\u001b[0m \u001b[38;5;28;01mif\u001b[39;00m index \u001b[38;5;129;01mnot\u001b[39;00m \u001b[38;5;129;01min\u001b[39;00m \u001b[38;5;28mself\u001b[39m\u001b[38;5;241m.\u001b[39march2infos_dict:\n\u001b[1;32m    394\u001b[0m     \u001b[38;5;28;01mif\u001b[39;00m \u001b[38;5;28mself\u001b[39m\u001b[38;5;241m.\u001b[39mfast_mode \u001b[38;5;129;01mand\u001b[39;00m \u001b[38;5;28mself\u001b[39m\u001b[38;5;241m.\u001b[39marchive_dir \u001b[38;5;129;01mis\u001b[39;00m \u001b[38;5;129;01mnot\u001b[39;00m \u001b[38;5;28;01mNone\u001b[39;00m:\n\u001b[0;32m--> 395\u001b[0m         \u001b[38;5;28;43mself\u001b[39;49m\u001b[38;5;241;43m.\u001b[39;49m\u001b[43mreload\u001b[49m\u001b[43m(\u001b[49m\u001b[38;5;28;43mself\u001b[39;49m\u001b[38;5;241;43m.\u001b[39;49m\u001b[43marchive_dir\u001b[49m\u001b[43m,\u001b[49m\u001b[43m \u001b[49m\u001b[43mindex\u001b[49m\u001b[43m)\u001b[49m\n\u001b[1;32m    396\u001b[0m     \u001b[38;5;28;01melif\u001b[39;00m \u001b[38;5;129;01mnot\u001b[39;00m \u001b[38;5;28mself\u001b[39m\u001b[38;5;241m.\u001b[39mfast_mode:\n\u001b[1;32m    397\u001b[0m         \u001b[38;5;28;01mif\u001b[39;00m \u001b[38;5;28mself\u001b[39m\u001b[38;5;241m.\u001b[39mverbose:\n",
      "File \u001b[0;32m~/miniconda3/lib/python3.11/site-packages/nats_bench/api_utils.py:328\u001b[0m, in \u001b[0;36mNASBenchMetaAPI.reload\u001b[0;34m(self, archive_root, index)\u001b[0m\n\u001b[1;32m    322\u001b[0m     xfile_path \u001b[38;5;241m=\u001b[39m os\u001b[38;5;241m.\u001b[39mpath\u001b[38;5;241m.\u001b[39mjoin(\n\u001b[1;32m    323\u001b[0m         archive_root, \u001b[38;5;124m\"\u001b[39m\u001b[38;5;132;01m{:d}\u001b[39;00m\u001b[38;5;124m.\u001b[39m\u001b[38;5;132;01m{:}\u001b[39;00m\u001b[38;5;124m\"\u001b[39m\u001b[38;5;241m.\u001b[39mformat(idx, PICKLE_EXT)\n\u001b[1;32m    324\u001b[0m     )\n\u001b[1;32m    325\u001b[0m \u001b[38;5;28;01massert\u001b[39;00m nats_is_file(xfile_path), \u001b[38;5;124m\"\u001b[39m\u001b[38;5;124minvalid data path : \u001b[39m\u001b[38;5;132;01m{:}\u001b[39;00m\u001b[38;5;124m\"\u001b[39m\u001b[38;5;241m.\u001b[39mformat(\n\u001b[1;32m    326\u001b[0m     xfile_path\n\u001b[1;32m    327\u001b[0m )\n\u001b[0;32m--> 328\u001b[0m xdata \u001b[38;5;241m=\u001b[39m \u001b[43mpickle_load\u001b[49m\u001b[43m(\u001b[49m\u001b[43mxfile_path\u001b[49m\u001b[43m)\u001b[49m\n\u001b[1;32m    329\u001b[0m \u001b[38;5;28;01massert\u001b[39;00m \u001b[38;5;28misinstance\u001b[39m(xdata, \u001b[38;5;28mdict\u001b[39m), \u001b[38;5;124m\"\u001b[39m\u001b[38;5;124minvalid format of data in \u001b[39m\u001b[38;5;132;01m{:}\u001b[39;00m\u001b[38;5;124m\"\u001b[39m\u001b[38;5;241m.\u001b[39mformat(\n\u001b[1;32m    330\u001b[0m     xfile_path\n\u001b[1;32m    331\u001b[0m )\n\u001b[1;32m    332\u001b[0m \u001b[38;5;28mself\u001b[39m\u001b[38;5;241m.\u001b[39mevaluated_indexes\u001b[38;5;241m.\u001b[39madd(idx)\n",
      "File \u001b[0;32m~/miniconda3/lib/python3.11/site-packages/nats_bench/api_utils.py:116\u001b[0m, in \u001b[0;36mpickle_load\u001b[0;34m(file_path, ext)\u001b[0m\n\u001b[1;32m    114\u001b[0m \u001b[38;5;28;01mif\u001b[39;00m _FILE_SYSTEM \u001b[38;5;241m==\u001b[39m \u001b[38;5;124m\"\u001b[39m\u001b[38;5;124mdefault\u001b[39m\u001b[38;5;124m\"\u001b[39m:\n\u001b[1;32m    115\u001b[0m     \u001b[38;5;28;01mwith\u001b[39;00m bz2\u001b[38;5;241m.\u001b[39mBZ2File(xfile_path, \u001b[38;5;124m\"\u001b[39m\u001b[38;5;124mrb\u001b[39m\u001b[38;5;124m\"\u001b[39m) \u001b[38;5;28;01mas\u001b[39;00m cfile:\n\u001b[0;32m--> 116\u001b[0m         \u001b[38;5;28;01mreturn\u001b[39;00m pickle\u001b[38;5;241m.\u001b[39mload(cfile)  \u001b[38;5;66;03m# pytype: disable=wrong-arg-types\u001b[39;00m\n\u001b[1;32m    117\u001b[0m \u001b[38;5;28;01melif\u001b[39;00m _FILE_SYSTEM \u001b[38;5;241m==\u001b[39m \u001b[38;5;124m\"\u001b[39m\u001b[38;5;124mgoogle\u001b[39m\u001b[38;5;124m\"\u001b[39m:\n\u001b[1;32m    118\u001b[0m     \u001b[38;5;28;01mimport\u001b[39;00m \u001b[38;5;21;01mtensorflow\u001b[39;00m \u001b[38;5;28;01mas\u001b[39;00m \u001b[38;5;21;01mtf\u001b[39;00m  \u001b[38;5;66;03m# pylint: disable=g-import-not-at-top\u001b[39;00m\n",
      "File \u001b[0;32m~/miniconda3/lib/python3.11/bz2.py:155\u001b[0m, in \u001b[0;36mBZ2File.peek\u001b[0;34m(self, n)\u001b[0m\n\u001b[1;32m    151\u001b[0m \u001b[38;5;28mself\u001b[39m\u001b[38;5;241m.\u001b[39m_check_can_read()\n\u001b[1;32m    152\u001b[0m \u001b[38;5;66;03m# Relies on the undocumented fact that BufferedReader.peek()\u001b[39;00m\n\u001b[1;32m    153\u001b[0m \u001b[38;5;66;03m# always returns at least one byte (except at EOF), independent\u001b[39;00m\n\u001b[1;32m    154\u001b[0m \u001b[38;5;66;03m# of the value of n\u001b[39;00m\n\u001b[0;32m--> 155\u001b[0m \u001b[38;5;28;01mreturn\u001b[39;00m \u001b[38;5;28mself\u001b[39m\u001b[38;5;241m.\u001b[39m_buffer\u001b[38;5;241m.\u001b[39mpeek(n)\n",
      "File \u001b[0;32m~/miniconda3/lib/python3.11/_compression.py:68\u001b[0m, in \u001b[0;36mDecompressReader.readinto\u001b[0;34m(self, b)\u001b[0m\n\u001b[1;32m     66\u001b[0m \u001b[38;5;28;01mdef\u001b[39;00m \u001b[38;5;21mreadinto\u001b[39m(\u001b[38;5;28mself\u001b[39m, b):\n\u001b[1;32m     67\u001b[0m     \u001b[38;5;28;01mwith\u001b[39;00m \u001b[38;5;28mmemoryview\u001b[39m(b) \u001b[38;5;28;01mas\u001b[39;00m view, view\u001b[38;5;241m.\u001b[39mcast(\u001b[38;5;124m\"\u001b[39m\u001b[38;5;124mB\u001b[39m\u001b[38;5;124m\"\u001b[39m) \u001b[38;5;28;01mas\u001b[39;00m byte_view:\n\u001b[0;32m---> 68\u001b[0m         data \u001b[38;5;241m=\u001b[39m \u001b[38;5;28;43mself\u001b[39;49m\u001b[38;5;241;43m.\u001b[39;49m\u001b[43mread\u001b[49m\u001b[43m(\u001b[49m\u001b[38;5;28;43mlen\u001b[39;49m\u001b[43m(\u001b[49m\u001b[43mbyte_view\u001b[49m\u001b[43m)\u001b[49m\u001b[43m)\u001b[49m\n\u001b[1;32m     69\u001b[0m         byte_view[:\u001b[38;5;28mlen\u001b[39m(data)] \u001b[38;5;241m=\u001b[39m data\n\u001b[1;32m     70\u001b[0m     \u001b[38;5;28;01mreturn\u001b[39;00m \u001b[38;5;28mlen\u001b[39m(data)\n",
      "File \u001b[0;32m~/miniconda3/lib/python3.11/_compression.py:103\u001b[0m, in \u001b[0;36mDecompressReader.read\u001b[0;34m(self, size)\u001b[0m\n\u001b[1;32m    101\u001b[0m     \u001b[38;5;28;01melse\u001b[39;00m:\n\u001b[1;32m    102\u001b[0m         rawblock \u001b[38;5;241m=\u001b[39m \u001b[38;5;124mb\u001b[39m\u001b[38;5;124m\"\u001b[39m\u001b[38;5;124m\"\u001b[39m\n\u001b[0;32m--> 103\u001b[0m     data \u001b[38;5;241m=\u001b[39m \u001b[38;5;28mself\u001b[39m\u001b[38;5;241m.\u001b[39m_decompressor\u001b[38;5;241m.\u001b[39mdecompress(rawblock, size)\n\u001b[1;32m    104\u001b[0m \u001b[38;5;28;01mif\u001b[39;00m data:\n\u001b[1;32m    105\u001b[0m     \u001b[38;5;28;01mbreak\u001b[39;00m\n",
      "\u001b[0;31mKeyboardInterrupt\u001b[0m: "
     ]
    },
    {
     "name": "stderr",
     "output_type": "stream",
     "text": [
      "Current best reward : 70.3000:   4%|▎         | 93/2500 [00:18<01:04, 37.26it/s]"
     ]
    }
   ],
   "source": [
    "for name, values in dic.items():\n",
    "    print(name)\n",
    "    rn = MyNode(state=copy.deepcopy(values[\"state\"]))\n",
    "    # rn.state.initialize_zobrist_table()\n",
    "    mc = ParetoNRPA(root_node=rn, level=2, params_path=\"/userdata/T0259728/projets/nas_ntk/utils/params.json\", api=values[\"api\"])\n",
    "    mc.n_iter= 50\n",
    "    node, _, _ = mc.main_loop()\n",
    "    print(node.is_terminal())"
   ]
  },
  {
   "cell_type": "code",
   "execution_count": null,
   "id": "e6300674-f655-436f-b7e4-ff3a4d0694f9",
   "metadata": {},
   "outputs": [],
   "source": []
  }
 ],
 "metadata": {
  "kernelspec": {
   "display_name": "Python 3 (ipykernel)",
   "language": "python",
   "name": "python3"
  },
  "language_info": {
   "codemirror_mode": {
    "name": "ipython",
    "version": 3
   },
   "file_extension": ".py",
   "mimetype": "text/x-python",
   "name": "python",
   "nbconvert_exporter": "python",
   "pygments_lexer": "ipython3",
   "version": "3.11.4"
  }
 },
 "nbformat": 4,
 "nbformat_minor": 5
}
