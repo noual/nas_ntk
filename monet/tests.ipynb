{
 "cells": [
  {
   "cell_type": "code",
   "id": "d2f48423",
   "metadata": {
    "ExecuteTime": {
     "end_time": "2024-11-25T11:03:44.900781Z",
     "start_time": "2024-11-25T11:03:44.238016Z"
    }
   },
   "source": [
    "import importlib\n",
    "import matplotlib.pyplot as plt\n",
    "import seaborn as sns\n",
    "import numpy as np\n",
    "from naslib.utils import get_dataset_api\n"
   ],
   "outputs": [],
   "execution_count": 1
  },
  {
   "cell_type": "markdown",
   "id": "3f3f0fdb",
   "metadata": {},
   "source": [
    "# Test de NASLib"
   ]
  },
  {
   "cell_type": "markdown",
   "id": "b6acd052",
   "metadata": {},
   "source": [
    "## Importation des espaces de recherche"
   ]
  },
  {
   "cell_type": "markdown",
   "id": "40caa0ff",
   "metadata": {},
   "source": [
    "### NAS-Bench-201"
   ]
  },
  {
   "cell_type": "code",
   "id": "5ec5f928",
   "metadata": {
    "ExecuteTime": {
     "end_time": "2024-11-25T11:03:46.067301Z",
     "start_time": "2024-11-25T11:03:45.958520Z"
    }
   },
   "source": [
    "from naslib.search_spaces import nasbench201 as nb201\n",
    "from naslib.search_spaces.nasbench201.conversions import convert_naslib_to_str"
   ],
   "outputs": [],
   "execution_count": 2
  },
  {
   "cell_type": "code",
   "id": "580daae5",
   "metadata": {
    "ExecuteTime": {
     "end_time": "2024-11-25T11:03:46.197145Z",
     "start_time": "2024-11-25T11:03:46.146495Z"
    }
   },
   "source": [
    "search_space = nb201.graph.NasBench201SearchSpace()\n",
    "search_space.sample_random_architecture()\n",
    "arch_str = convert_naslib_to_str(search_space)\n",
    "print(f\"Architecture string: {arch_str}\")"
   ],
   "outputs": [
    {
     "name": "stdout",
     "output_type": "stream",
     "text": [
      "Architecture string: |nor_conv_1x1~0|+|none~0|nor_conv_3x3~1|+|nor_conv_1x1~0|avg_pool_3x3~1|skip_connect~2|\n"
     ]
    }
   ],
   "execution_count": 3
  },
  {
   "metadata": {},
   "cell_type": "markdown",
   "source": "Récupérer l'accuracy du modèle sur CIFAR-10",
   "id": "ea9df911471e3e37"
  },
  {
   "metadata": {
    "ExecuteTime": {
     "end_time": "2024-11-25T11:03:47.086595Z",
     "start_time": "2024-11-25T11:03:46.479765Z"
    }
   },
   "cell_type": "code",
   "source": [
    "from naslib.search_spaces.core import Metric\n",
    "dataset_api = get_dataset_api(\"nasbench201\", 'cifar10')\n",
    "results = search_space.query(dataset='cifar10', metric=Metric.VAL_ACCURACY, dataset_api=dataset_api)\n",
    "print(f\"The accuracy is {results}\")"
   ],
   "id": "e9422bae8160e5b8",
   "outputs": [
    {
     "name": "stdout",
     "output_type": "stream",
     "text": [
      "The accuracy is 88.2\n"
     ]
    }
   ],
   "execution_count": 4
  },
  {
   "cell_type": "markdown",
   "id": "5cd6f185",
   "metadata": {},
   "source": [
    "### NAS-Bench-101"
   ]
  },
  {
   "cell_type": "code",
   "id": "02ccb717",
   "metadata": {
    "ExecuteTime": {
     "end_time": "2024-11-25T11:03:47.099843Z",
     "start_time": "2024-11-25T11:03:47.097858Z"
    }
   },
   "source": "from naslib.search_spaces import nasbench101 as nb101",
   "outputs": [],
   "execution_count": 5
  },
  {
   "metadata": {
    "ExecuteTime": {
     "end_time": "2024-11-25T11:03:51.917745Z",
     "start_time": "2024-11-25T11:03:47.152500Z"
    }
   },
   "cell_type": "code",
   "source": [
    "from naslib.utils.encodings import EncodingType\n",
    "from naslib.utils import get_dataset_api\n",
    "\n",
    "search_space = nb101.graph.NasBench101SearchSpace()\n",
    "dataset_api = get_dataset_api(\"nasbench101\", 'cifar10')\n",
    "search_space.sample_random_architecture(dataset_api=dataset_api)\n",
    "print(search_space.encode(EncodingType.GCN))"
   ],
   "id": "c5bebe1c5bbb4b80",
   "outputs": [
    {
     "name": "stdout",
     "output_type": "stream",
     "text": [
      "Loading dataset from file... This may take a few minutes...\n",
      "Loaded dataset in 4 seconds\n",
      "{'num_vertices': 7, 'adjacency': array([[0, 0, 0, 0, 0, 1, 1],\n",
      "       [0, 0, 1, 1, 0, 1, 0],\n",
      "       [0, 0, 0, 1, 0, 1, 1],\n",
      "       [0, 0, 0, 0, 0, 1, 0],\n",
      "       [0, 0, 0, 0, 0, 0, 0],\n",
      "       [0, 0, 0, 0, 0, 0, 0],\n",
      "       [0, 0, 0, 0, 0, 0, 0]]), 'operations': array([[0., 1., 0., 0., 0.],\n",
      "       [0., 0., 0., 0., 1.],\n",
      "       [0., 0., 0., 0., 1.],\n",
      "       [0., 0., 1., 0., 0.],\n",
      "       [0., 0., 0., 1., 0.],\n",
      "       [0., 0., 1., 0., 0.],\n",
      "       [1., 0., 0., 0., 0.]], dtype=float32), 'mask': array([1., 1., 1., 1., 1., 1., 1.], dtype=float32), 'val_acc': 0.0}\n"
     ]
    }
   ],
   "execution_count": 6
  },
  {
   "metadata": {},
   "cell_type": "markdown",
   "source": "Récupérer l'accuracy du modèle sur CIFAR-10",
   "id": "8214e54539b6a27e"
  },
  {
   "metadata": {
    "ExecuteTime": {
     "end_time": "2024-11-25T11:03:51.928423Z",
     "start_time": "2024-11-25T11:03:51.925183Z"
    }
   },
   "cell_type": "code",
   "source": [
    "results = search_space.query(dataset='cifar10', metric=Metric.VAL_ACCURACY, dataset_api=dataset_api)\n",
    "print(f\"The accuracy is {results}\")"
   ],
   "id": "ed908a650686f4a3",
   "outputs": [
    {
     "name": "stdout",
     "output_type": "stream",
     "text": [
      "The accuracy is 83.46354365348816\n"
     ]
    }
   ],
   "execution_count": 7
  },
  {
   "cell_type": "markdown",
   "id": "4e290b9b",
   "metadata": {},
   "source": [
    "### NAS-Bench-301"
   ]
  },
  {
   "cell_type": "code",
   "id": "0243987d",
   "metadata": {
    "ExecuteTime": {
     "end_time": "2024-11-25T11:03:51.975240Z",
     "start_time": "2024-11-25T11:03:51.972685Z"
    }
   },
   "source": "from naslib.search_spaces import nasbench301 as nb301",
   "outputs": [],
   "execution_count": 8
  },
  {
   "metadata": {
    "ExecuteTime": {
     "end_time": "2024-11-25T11:04:11.081657Z",
     "start_time": "2024-11-25T11:03:52.020878Z"
    }
   },
   "cell_type": "code",
   "source": [
    "search_space = nb301.graph.NasBench301SearchSpace()\n",
    "dataset_api = get_dataset_api(\"nasbench301\", 'cifar10')\n",
    "search_space.sample_random_architecture()\n",
    "print(search_space.encode(EncodingType.COMPACT))"
   ],
   "id": "a6cf9f6473771f21",
   "outputs": [
    {
     "name": "stdout",
     "output_type": "stream",
     "text": [
      "(((1, 2), (0, 1), (0, 2), (2, 0), (2, 2), (3, 1), (4, 3), (0, 2)), ((0, 3), (1, 4), (0, 6), (2, 1), (1, 4), (3, 6), (0, 5), (4, 5)))\n"
     ]
    }
   ],
   "execution_count": 9
  },
  {
   "metadata": {},
   "cell_type": "markdown",
   "source": "Récupérer l'accuracy du modèle sur CIFAR-10",
   "id": "55bca77651eba507"
  },
  {
   "metadata": {
    "ExecuteTime": {
     "end_time": "2024-11-25T11:04:11.457173Z",
     "start_time": "2024-11-25T11:04:11.093351Z"
    }
   },
   "cell_type": "code",
   "source": [
    "results = search_space.query(dataset='cifar10', metric=Metric.VAL_ACCURACY, dataset_api=dataset_api)\n",
    "print(f\"The accuracy is {results}\")"
   ],
   "id": "6009e7e2d1ef3c99",
   "outputs": [
    {
     "name": "stdout",
     "output_type": "stream",
     "text": [
      "The accuracy is 92.89466416306048\n"
     ]
    }
   ],
   "execution_count": 10
  },
  {
   "cell_type": "markdown",
   "id": "070ad1da",
   "metadata": {},
   "source": [
    "### NAS-Bench-Size"
   ]
  },
  {
   "metadata": {
    "ExecuteTime": {
     "end_time": "2024-11-25T11:04:11.666522Z",
     "start_time": "2024-11-25T11:04:11.467356Z"
    }
   },
   "cell_type": "code",
   "source": [
    "from naslib.search_spaces import natsbenchsize as nbs\n",
    "dataset_api = get_dataset_api(\"natsbenchsize\", 'cifar10')\n",
    "search_space = nbs.graph.NATSBenchSizeSearchSpace()\n",
    "search_space.sample_random_architecture()\n",
    "print(search_space.channels)"
   ],
   "id": "b204642a8251e607",
   "outputs": [
    {
     "name": "stdout",
     "output_type": "stream",
     "text": [
      "[2024-11-25 11:04:11] Try to use the default NATS-Bench (size) path from fast_mode=True and path=None.\n",
      "[2024-11-25 11:04:11] Create NATS-Bench (size) done with 0/32768 architectures avaliable.\n",
      "[8, 24, 64, 24, 64]\n"
     ]
    }
   ],
   "execution_count": 11
  },
  {
   "metadata": {},
   "cell_type": "markdown",
   "source": "Récupérer l'accuracy du modèle sur CIFAR-10",
   "id": "2b47cbaceea490f8"
  },
  {
   "metadata": {
    "ExecuteTime": {
     "end_time": "2024-11-25T11:04:11.683853Z",
     "start_time": "2024-11-25T11:04:11.677152Z"
    }
   },
   "cell_type": "code",
   "source": [
    "results = search_space.query(dataset='cifar10', metric=Metric.TEST_ACCURACY, dataset_api=dataset_api)\n",
    "print(f\"The accuracy is {results}\")"
   ],
   "id": "1a97cc78bf16f264",
   "outputs": [
    {
     "name": "stdout",
     "output_type": "stream",
     "text": [
      "[2024-11-25 11:04:11] Call the get_more_info function with index=1495, dataset=cifar10, iepoch=89, hp=90, and is_random=False.\n",
      "[2024-11-25 11:04:11] Call query_index_by_arch with arch=1495\n",
      "[2024-11-25 11:04:11] Call clear_params with archive_root=/home/lam/.torch/NATS-sss-v1_0-50262-simple and index=1495\n",
      "The accuracy is 91.22\n"
     ]
    }
   ],
   "execution_count": 12
  },
  {
   "metadata": {
    "ExecuteTime": {
     "end_time": "2024-11-25T11:04:11.727850Z",
     "start_time": "2024-11-25T11:04:11.725352Z"
    }
   },
   "cell_type": "code",
   "source": "",
   "id": "a148daebb976581b",
   "outputs": [],
   "execution_count": null
  },
  {
   "metadata": {},
   "cell_type": "markdown",
   "source": "## Trans-Bench-101",
   "id": "5c48af44a2c1e245"
  },
  {
   "metadata": {
    "ExecuteTime": {
     "end_time": "2024-11-25T11:04:12.516692Z",
     "start_time": "2024-11-25T11:04:11.781245Z"
    }
   },
   "cell_type": "code",
   "source": [
    "from naslib.search_spaces import transbench101 as tb101\n",
    "api = get_dataset_api(\"transbench101\", 'cifar10')\n",
    "search_space = tb101.graph.TransBench101SearchSpaceMicro()\n",
    "search_space.sample_random_architecture()\n",
    "print(search_space.encode(EncodingType.ADJACENCY_ONE_HOT))"
   ],
   "id": "484ab14cbe05457a",
   "outputs": [
    {
     "name": "stdout",
     "output_type": "stream",
     "text": [
      "[0, 0, 0, 1, 0, 0, 1, 0, 0, 0, 1, 0, 0, 0, 0, 1, 0, 0, 0, 0, 0, 0, 0, 1, 0, 0, 1, 0, 0, 0]\n"
     ]
    }
   ],
   "execution_count": 13
  },
  {
   "metadata": {},
   "cell_type": "markdown",
   "source": "Récupérer l'accuracy du modèle sur CIFAR-10",
   "id": "c29c2c0797021465"
  },
  {
   "metadata": {
    "ExecuteTime": {
     "end_time": "2024-11-25T11:04:12.628970Z",
     "start_time": "2024-11-25T11:04:12.524979Z"
    }
   },
   "cell_type": "code",
   "source": [
    "from naslib.search_spaces import TransNASBenchAPI\n",
    "\n",
    "dataset_api = {\"api\": TransNASBenchAPI(database_path=\"naslib/data/transnas-bench_v10141024.pth\"),\n",
    "               \"task\": \"class_object\"}\n",
    "results = search_space.query(dataset='cifar10', metric=Metric.VAL_ACCURACY, dataset_api=dataset_api)\n",
    "print(f\"The accuracy is {results}\")"
   ],
   "id": "4a80014b664f179a",
   "outputs": [
    {
     "ename": "FileNotFoundError",
     "evalue": "[Errno 2] No such file or directory: 'naslib/data/transnas-bench_v10141024.pth'",
     "output_type": "error",
     "traceback": [
      "\u001B[0;31m---------------------------------------------------------------------------\u001B[0m",
      "\u001B[0;31mFileNotFoundError\u001B[0m                         Traceback (most recent call last)",
      "\u001B[0;32m/tmp/ipykernel_92166/1063755318.py\u001B[0m in \u001B[0;36m<module>\u001B[0;34m\u001B[0m\n\u001B[1;32m      1\u001B[0m \u001B[0;32mfrom\u001B[0m \u001B[0mnaslib\u001B[0m\u001B[0;34m.\u001B[0m\u001B[0msearch_spaces\u001B[0m \u001B[0;32mimport\u001B[0m \u001B[0mTransNASBenchAPI\u001B[0m\u001B[0;34m\u001B[0m\u001B[0;34m\u001B[0m\u001B[0m\n\u001B[1;32m      2\u001B[0m \u001B[0;34m\u001B[0m\u001B[0m\n\u001B[0;32m----> 3\u001B[0;31m dataset_api = {\"api\": TransNASBenchAPI(database_path=\"naslib/data/transnas-bench_v10141024.pth\"),\n\u001B[0m\u001B[1;32m      4\u001B[0m                \"task\": \"class_object\"}\n\u001B[1;32m      5\u001B[0m \u001B[0mresults\u001B[0m \u001B[0;34m=\u001B[0m \u001B[0msearch_space\u001B[0m\u001B[0;34m.\u001B[0m\u001B[0mquery\u001B[0m\u001B[0;34m(\u001B[0m\u001B[0mdataset\u001B[0m\u001B[0;34m=\u001B[0m\u001B[0;34m'cifar10'\u001B[0m\u001B[0;34m,\u001B[0m \u001B[0mmetric\u001B[0m\u001B[0;34m=\u001B[0m\u001B[0mMetric\u001B[0m\u001B[0;34m.\u001B[0m\u001B[0mVAL_ACCURACY\u001B[0m\u001B[0;34m,\u001B[0m \u001B[0mdataset_api\u001B[0m\u001B[0;34m=\u001B[0m\u001B[0mdataset_api\u001B[0m\u001B[0;34m)\u001B[0m\u001B[0;34m\u001B[0m\u001B[0;34m\u001B[0m\u001B[0m\n",
      "\u001B[0;32m~/projets/NASLib/naslib/search_spaces/transbench101/api.py\u001B[0m in \u001B[0;36m__init__\u001B[0;34m(self, database_path, verbose)\u001B[0m\n\u001B[1;32m     12\u001B[0m \u001B[0;34m\u001B[0m\u001B[0m\n\u001B[1;32m     13\u001B[0m     \u001B[0;32mdef\u001B[0m \u001B[0m__init__\u001B[0m\u001B[0;34m(\u001B[0m\u001B[0mself\u001B[0m\u001B[0;34m,\u001B[0m \u001B[0mdatabase_path\u001B[0m\u001B[0;34m,\u001B[0m \u001B[0mverbose\u001B[0m\u001B[0;34m=\u001B[0m\u001B[0;32mFalse\u001B[0m\u001B[0;34m)\u001B[0m\u001B[0;34m:\u001B[0m\u001B[0;34m\u001B[0m\u001B[0;34m\u001B[0m\u001B[0m\n\u001B[0;32m---> 14\u001B[0;31m         \u001B[0mself\u001B[0m\u001B[0;34m.\u001B[0m\u001B[0mdatabase\u001B[0m \u001B[0;34m=\u001B[0m \u001B[0mtorch\u001B[0m\u001B[0;34m.\u001B[0m\u001B[0mload\u001B[0m\u001B[0;34m(\u001B[0m\u001B[0mdatabase_path\u001B[0m\u001B[0;34m)\u001B[0m\u001B[0;34m\u001B[0m\u001B[0;34m\u001B[0m\u001B[0m\n\u001B[0m\u001B[1;32m     15\u001B[0m         \u001B[0mself\u001B[0m\u001B[0;34m.\u001B[0m\u001B[0mverbose\u001B[0m \u001B[0;34m=\u001B[0m \u001B[0mverbose\u001B[0m\u001B[0;34m\u001B[0m\u001B[0;34m\u001B[0m\u001B[0m\n\u001B[1;32m     16\u001B[0m \u001B[0;34m\u001B[0m\u001B[0m\n",
      "\u001B[0;32m~/anaconda3/envs/naslib/lib/python3.7/site-packages/torch/serialization.py\u001B[0m in \u001B[0;36mload\u001B[0;34m(f, map_location, pickle_module, weights_only, **pickle_load_args)\u001B[0m\n\u001B[1;32m    769\u001B[0m         \u001B[0mpickle_load_args\u001B[0m\u001B[0;34m[\u001B[0m\u001B[0;34m'encoding'\u001B[0m\u001B[0;34m]\u001B[0m \u001B[0;34m=\u001B[0m \u001B[0;34m'utf-8'\u001B[0m\u001B[0;34m\u001B[0m\u001B[0;34m\u001B[0m\u001B[0m\n\u001B[1;32m    770\u001B[0m \u001B[0;34m\u001B[0m\u001B[0m\n\u001B[0;32m--> 771\u001B[0;31m     \u001B[0;32mwith\u001B[0m \u001B[0m_open_file_like\u001B[0m\u001B[0;34m(\u001B[0m\u001B[0mf\u001B[0m\u001B[0;34m,\u001B[0m \u001B[0;34m'rb'\u001B[0m\u001B[0;34m)\u001B[0m \u001B[0;32mas\u001B[0m \u001B[0mopened_file\u001B[0m\u001B[0;34m:\u001B[0m\u001B[0;34m\u001B[0m\u001B[0;34m\u001B[0m\u001B[0m\n\u001B[0m\u001B[1;32m    772\u001B[0m         \u001B[0;32mif\u001B[0m \u001B[0m_is_zipfile\u001B[0m\u001B[0;34m(\u001B[0m\u001B[0mopened_file\u001B[0m\u001B[0;34m)\u001B[0m\u001B[0;34m:\u001B[0m\u001B[0;34m\u001B[0m\u001B[0;34m\u001B[0m\u001B[0m\n\u001B[1;32m    773\u001B[0m             \u001B[0;31m# The zipfile reader is going to advance the current file position.\u001B[0m\u001B[0;34m\u001B[0m\u001B[0;34m\u001B[0m\u001B[0;34m\u001B[0m\u001B[0m\n",
      "\u001B[0;32m~/anaconda3/envs/naslib/lib/python3.7/site-packages/torch/serialization.py\u001B[0m in \u001B[0;36m_open_file_like\u001B[0;34m(name_or_buffer, mode)\u001B[0m\n\u001B[1;32m    268\u001B[0m \u001B[0;32mdef\u001B[0m \u001B[0m_open_file_like\u001B[0m\u001B[0;34m(\u001B[0m\u001B[0mname_or_buffer\u001B[0m\u001B[0;34m,\u001B[0m \u001B[0mmode\u001B[0m\u001B[0;34m)\u001B[0m\u001B[0;34m:\u001B[0m\u001B[0;34m\u001B[0m\u001B[0;34m\u001B[0m\u001B[0m\n\u001B[1;32m    269\u001B[0m     \u001B[0;32mif\u001B[0m \u001B[0m_is_path\u001B[0m\u001B[0;34m(\u001B[0m\u001B[0mname_or_buffer\u001B[0m\u001B[0;34m)\u001B[0m\u001B[0;34m:\u001B[0m\u001B[0;34m\u001B[0m\u001B[0;34m\u001B[0m\u001B[0m\n\u001B[0;32m--> 270\u001B[0;31m         \u001B[0;32mreturn\u001B[0m \u001B[0m_open_file\u001B[0m\u001B[0;34m(\u001B[0m\u001B[0mname_or_buffer\u001B[0m\u001B[0;34m,\u001B[0m \u001B[0mmode\u001B[0m\u001B[0;34m)\u001B[0m\u001B[0;34m\u001B[0m\u001B[0;34m\u001B[0m\u001B[0m\n\u001B[0m\u001B[1;32m    271\u001B[0m     \u001B[0;32melse\u001B[0m\u001B[0;34m:\u001B[0m\u001B[0;34m\u001B[0m\u001B[0;34m\u001B[0m\u001B[0m\n\u001B[1;32m    272\u001B[0m         \u001B[0;32mif\u001B[0m \u001B[0;34m'w'\u001B[0m \u001B[0;32min\u001B[0m \u001B[0mmode\u001B[0m\u001B[0;34m:\u001B[0m\u001B[0;34m\u001B[0m\u001B[0;34m\u001B[0m\u001B[0m\n",
      "\u001B[0;32m~/anaconda3/envs/naslib/lib/python3.7/site-packages/torch/serialization.py\u001B[0m in \u001B[0;36m__init__\u001B[0;34m(self, name, mode)\u001B[0m\n\u001B[1;32m    249\u001B[0m \u001B[0;32mclass\u001B[0m \u001B[0m_open_file\u001B[0m\u001B[0;34m(\u001B[0m\u001B[0m_opener\u001B[0m\u001B[0;34m)\u001B[0m\u001B[0;34m:\u001B[0m\u001B[0;34m\u001B[0m\u001B[0;34m\u001B[0m\u001B[0m\n\u001B[1;32m    250\u001B[0m     \u001B[0;32mdef\u001B[0m \u001B[0m__init__\u001B[0m\u001B[0;34m(\u001B[0m\u001B[0mself\u001B[0m\u001B[0;34m,\u001B[0m \u001B[0mname\u001B[0m\u001B[0;34m,\u001B[0m \u001B[0mmode\u001B[0m\u001B[0;34m)\u001B[0m\u001B[0;34m:\u001B[0m\u001B[0;34m\u001B[0m\u001B[0;34m\u001B[0m\u001B[0m\n\u001B[0;32m--> 251\u001B[0;31m         \u001B[0msuper\u001B[0m\u001B[0;34m(\u001B[0m\u001B[0m_open_file\u001B[0m\u001B[0;34m,\u001B[0m \u001B[0mself\u001B[0m\u001B[0;34m)\u001B[0m\u001B[0;34m.\u001B[0m\u001B[0m__init__\u001B[0m\u001B[0;34m(\u001B[0m\u001B[0mopen\u001B[0m\u001B[0;34m(\u001B[0m\u001B[0mname\u001B[0m\u001B[0;34m,\u001B[0m \u001B[0mmode\u001B[0m\u001B[0;34m)\u001B[0m\u001B[0;34m)\u001B[0m\u001B[0;34m\u001B[0m\u001B[0;34m\u001B[0m\u001B[0m\n\u001B[0m\u001B[1;32m    252\u001B[0m \u001B[0;34m\u001B[0m\u001B[0m\n\u001B[1;32m    253\u001B[0m     \u001B[0;32mdef\u001B[0m \u001B[0m__exit__\u001B[0m\u001B[0;34m(\u001B[0m\u001B[0mself\u001B[0m\u001B[0;34m,\u001B[0m \u001B[0;34m*\u001B[0m\u001B[0margs\u001B[0m\u001B[0;34m)\u001B[0m\u001B[0;34m:\u001B[0m\u001B[0;34m\u001B[0m\u001B[0;34m\u001B[0m\u001B[0m\n",
      "\u001B[0;31mFileNotFoundError\u001B[0m: [Errno 2] No such file or directory: 'naslib/data/transnas-bench_v10141024.pth'"
     ]
    }
   ],
   "execution_count": 14
  },
  {
   "metadata": {},
   "cell_type": "code",
   "outputs": [],
   "execution_count": null,
   "source": "",
   "id": "8834a41d019c2f9"
  },
  {
   "metadata": {},
   "cell_type": "code",
   "outputs": [],
   "execution_count": null,
   "source": "",
   "id": "43b7d234d60d61c5"
  },
  {
   "metadata": {},
   "cell_type": "code",
   "outputs": [],
   "execution_count": null,
   "source": "",
   "id": "35653f28468cfbac"
  },
  {
   "metadata": {},
   "cell_type": "code",
   "outputs": [],
   "execution_count": null,
   "source": "",
   "id": "20facc6c5f285bcc"
  }
 ],
 "metadata": {
  "kernelspec": {
   "display_name": "Python 3 (ipykernel)",
   "language": "python",
   "name": "python3"
  },
  "language_info": {
   "codemirror_mode": {
    "name": "ipython",
    "version": 3
   },
   "file_extension": ".py",
   "mimetype": "text/x-python",
   "name": "python",
   "nbconvert_exporter": "python",
   "pygments_lexer": "ipython3",
   "version": "3.7.12"
  }
 },
 "nbformat": 4,
 "nbformat_minor": 5
}
