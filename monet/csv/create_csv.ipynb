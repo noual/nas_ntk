{
 "cells": [
  {
   "cell_type": "code",
   "id": "initial_id",
   "metadata": {
    "collapsed": true,
    "ExecuteTime": {
     "end_time": "2024-11-29T10:57:43.603679Z",
     "start_time": "2024-11-29T10:57:43.600941Z"
    }
   },
   "source": "import pandas as pd",
   "outputs": [],
   "execution_count": 1
  },
  {
   "metadata": {},
   "cell_type": "markdown",
   "source": "# NASBench201",
   "id": "ba2e243880f14edb"
  },
  {
   "metadata": {
    "ExecuteTime": {
     "end_time": "2024-11-29T10:58:01.113055Z",
     "start_time": "2024-11-29T10:57:43.624290Z"
    }
   },
   "cell_type": "code",
   "source": [
    "from naslib.search_spaces.core import Metric\n",
    "from tqdm import tqdm\n",
    "from naslib.utils import get_dataset_api\n",
    "from naslib.search_spaces import nasbench201 as nb201\n",
    "from naslib.search_spaces.nasbench201.graph import NasBench201SearchSpace\n",
    "\n",
    "from nas_201_api import NASBench201API\n",
    "\n",
    "cifar10_dataset_api = get_dataset_api(\"nasbench201\", 'cifar10')\n",
    "cifar100_dataset_api = get_dataset_api(\"nasbench201\", 'cifar100')\n",
    "real_nb201_api = NASBench201API(\"../../naslib/data/NAS-Bench-201-v1_0-e61699.pth\", verbose=False)\n",
    "from xautodl.models import get_cell_based_tiny_net\n",
    "from naslib.search_spaces.nasbench201.conversions import convert_str_to_op_indices, convert_op_indices_to_naslib\n"
   ],
   "id": "fd5842064bdaf601",
   "outputs": [
    {
     "name": "stderr",
     "output_type": "stream",
     "text": [
      "0it [00:00, ?it/s]\n"
     ]
    },
    {
     "ename": "KeyError",
     "evalue": "'cifar100'",
     "output_type": "error",
     "traceback": [
      "\u001B[0;31m---------------------------------------------------------------------------\u001B[0m",
      "\u001B[0;31mKeyError\u001B[0m                                  Traceback (most recent call last)",
      "\u001B[0;32m/tmp/ipykernel_1243146/902753638.py\u001B[0m in \u001B[0;36m<module>\u001B[0;34m\u001B[0m\n\u001B[1;32m     21\u001B[0m     \u001B[0mcifar_10_val_accuracy\u001B[0m \u001B[0;34m=\u001B[0m \u001B[0mobjec\u001B[0m\u001B[0;34m.\u001B[0m\u001B[0mquery\u001B[0m\u001B[0;34m(\u001B[0m\u001B[0mdataset\u001B[0m\u001B[0;34m=\u001B[0m\u001B[0;34m'cifar10'\u001B[0m\u001B[0;34m,\u001B[0m \u001B[0mmetric\u001B[0m\u001B[0;34m=\u001B[0m\u001B[0mMetric\u001B[0m\u001B[0;34m.\u001B[0m\u001B[0mVAL_ACCURACY\u001B[0m\u001B[0;34m,\u001B[0m \u001B[0mdataset_api\u001B[0m\u001B[0;34m=\u001B[0m\u001B[0mcifar10_dataset_api\u001B[0m\u001B[0;34m)\u001B[0m\u001B[0;34m\u001B[0m\u001B[0;34m\u001B[0m\u001B[0m\n\u001B[1;32m     22\u001B[0m     \u001B[0mcifar_100_val_accuracy\u001B[0m \u001B[0;34m=\u001B[0m \u001B[0mobjec\u001B[0m\u001B[0;34m.\u001B[0m\u001B[0mquery\u001B[0m\u001B[0;34m(\u001B[0m\u001B[0mdataset\u001B[0m\u001B[0;34m=\u001B[0m\u001B[0;34m'cifar100'\u001B[0m\u001B[0;34m,\u001B[0m \u001B[0mmetric\u001B[0m\u001B[0;34m=\u001B[0m\u001B[0mMetric\u001B[0m\u001B[0;34m.\u001B[0m\u001B[0mVAL_ACCURACY\u001B[0m\u001B[0;34m,\u001B[0m \u001B[0mdataset_api\u001B[0m\u001B[0;34m=\u001B[0m\u001B[0mcifar100_dataset_api\u001B[0m\u001B[0;34m)\u001B[0m\u001B[0;34m\u001B[0m\u001B[0;34m\u001B[0m\u001B[0m\n\u001B[0;32m---> 23\u001B[0;31m     \u001B[0mparams\u001B[0m \u001B[0;34m=\u001B[0m \u001B[0mobjec\u001B[0m\u001B[0;34m.\u001B[0m\u001B[0mquery\u001B[0m\u001B[0;34m(\u001B[0m\u001B[0mdataset\u001B[0m\u001B[0;34m=\u001B[0m\u001B[0;34m'cifar100'\u001B[0m\u001B[0;34m,\u001B[0m \u001B[0mmetric\u001B[0m\u001B[0;34m=\u001B[0m\u001B[0mMetric\u001B[0m\u001B[0;34m.\u001B[0m\u001B[0mPARAMETERS\u001B[0m\u001B[0;34m,\u001B[0m \u001B[0mdataset_api\u001B[0m\u001B[0;34m=\u001B[0m\u001B[0mcifar10_dataset_api\u001B[0m\u001B[0;34m)\u001B[0m\u001B[0;34m\u001B[0m\u001B[0;34m\u001B[0m\u001B[0m\n\u001B[0m\u001B[1;32m     24\u001B[0m     \u001B[0mlatency\u001B[0m \u001B[0;34m=\u001B[0m \u001B[0mobjec\u001B[0m\u001B[0;34m.\u001B[0m\u001B[0mquery\u001B[0m\u001B[0;34m(\u001B[0m\u001B[0mdataset\u001B[0m\u001B[0;34m=\u001B[0m\u001B[0;34m'cifar10'\u001B[0m\u001B[0;34m,\u001B[0m \u001B[0mmetric\u001B[0m\u001B[0;34m=\u001B[0m\u001B[0mMetric\u001B[0m\u001B[0;34m.\u001B[0m\u001B[0mLATENCY\u001B[0m\u001B[0;34m,\u001B[0m \u001B[0mdataset_api\u001B[0m\u001B[0;34m=\u001B[0m\u001B[0mcifar10_dataset_api\u001B[0m\u001B[0;34m)\u001B[0m\u001B[0;34m\u001B[0m\u001B[0;34m\u001B[0m\u001B[0m\n\u001B[1;32m     25\u001B[0m     \u001B[0mprint\u001B[0m\u001B[0;34m(\u001B[0m\u001B[0mcifar_100_val_accuracy\u001B[0m\u001B[0;34m,\u001B[0m \u001B[0mcifar_10_val_accuracy\u001B[0m\u001B[0;34m,\u001B[0m \u001B[0mparams\u001B[0m\u001B[0;34m,\u001B[0m \u001B[0mlatency\u001B[0m\u001B[0;34m)\u001B[0m\u001B[0;34m\u001B[0m\u001B[0;34m\u001B[0m\u001B[0m\n",
      "\u001B[0;32m~/projets/nas_ntk/naslib/search_spaces/nasbench201/graph.py\u001B[0m in \u001B[0;36mquery\u001B[0;34m(self, metric, dataset, path, epoch, full_lc, dataset_api)\u001B[0m\n\u001B[1;32m    211\u001B[0m         \u001B[0;32melse\u001B[0m\u001B[0;34m:\u001B[0m\u001B[0;34m\u001B[0m\u001B[0;34m\u001B[0m\u001B[0m\n\u001B[1;32m    212\u001B[0m             \u001B[0;31m# return the value of the metric only at the specified epoch\u001B[0m\u001B[0;34m\u001B[0m\u001B[0;34m\u001B[0m\u001B[0;34m\u001B[0m\u001B[0m\n\u001B[0;32m--> 213\u001B[0;31m             \u001B[0;32mreturn\u001B[0m \u001B[0mquery_results\u001B[0m\u001B[0;34m[\u001B[0m\u001B[0mdataset\u001B[0m\u001B[0;34m]\u001B[0m\u001B[0;34m[\u001B[0m\u001B[0mmetric_to_nb201\u001B[0m\u001B[0;34m[\u001B[0m\u001B[0mmetric\u001B[0m\u001B[0;34m]\u001B[0m\u001B[0;34m]\u001B[0m\u001B[0;34m[\u001B[0m\u001B[0mepoch\u001B[0m\u001B[0;34m]\u001B[0m\u001B[0;34m\u001B[0m\u001B[0;34m\u001B[0m\u001B[0m\n\u001B[0m\u001B[1;32m    214\u001B[0m \u001B[0;34m\u001B[0m\u001B[0m\n\u001B[1;32m    215\u001B[0m     \u001B[0;32mdef\u001B[0m \u001B[0mget_op_indices\u001B[0m\u001B[0;34m(\u001B[0m\u001B[0mself\u001B[0m\u001B[0;34m)\u001B[0m \u001B[0;34m->\u001B[0m \u001B[0mlist\u001B[0m\u001B[0;34m:\u001B[0m\u001B[0;34m\u001B[0m\u001B[0;34m\u001B[0m\u001B[0m\n",
      "\u001B[0;31mKeyError\u001B[0m: 'cifar100'"
     ]
    }
   ],
   "execution_count": 2
  },
  {
   "metadata": {
    "ExecuteTime": {
     "end_time": "2024-11-29T11:54:56.098750Z",
     "start_time": "2024-11-29T11:02:21.406784Z"
    }
   },
   "cell_type": "code",
   "source": [
    "import numpy as np\n",
    "\n",
    "df = pd.DataFrame(columns=[\"arch_id\", \"arch_str\", \"params\", \"cifar_10_val_accuracy\"])\n",
    "\n",
    "for i, arch_str in tqdm(enumerate(real_nb201_api)):\n",
    "    indices = convert_str_to_op_indices(arch_str)\n",
    "    objec = NasBench201SearchSpace()\n",
    "    convert_op_indices_to_naslib(indices, objec)\n",
    "    cifar_10_val_accuracy = objec.query(dataset='cifar10', metric=Metric.VAL_ACCURACY, dataset_api=cifar10_dataset_api)\n",
    "    cifar_100_val_accuracy = objec.query(dataset='cifar100', metric=Metric.VAL_ACCURACY, dataset_api=cifar100_dataset_api)\n",
    "\n",
    "    id = real_nb201_api.query_index_by_arch(arch_str)\n",
    "    config = real_nb201_api.get_net_config(id, 'cifar10-valid')  # obtain the network configuration for the n-th architecture on the CIFAR-10 dataset\n",
    "    network = get_cell_based_tiny_net(config)  # create the network from configuration\n",
    "    params = sum([np.prod(p.size()) for p in network.parameters()])\n",
    "\n",
    "    df = df.append({\"arch_id\": id, \"arch_str\": arch_str, \"params\": params, \"cifar_10_val_accuracy\": cifar_10_val_accuracy}, ignore_index=True)"
   ],
   "id": "33a44885e2ade4e8",
   "outputs": [
    {
     "name": "stderr",
     "output_type": "stream",
     "text": [
      "15625it [52:34,  4.95it/s] \n"
     ]
    }
   ],
   "execution_count": 13
  },
  {
   "metadata": {
    "ExecuteTime": {
     "end_time": "2024-11-29T11:54:56.215592Z",
     "start_time": "2024-11-29T11:54:56.185957Z"
    }
   },
   "cell_type": "code",
   "source": "df.to_csv(\"nasbench201.csv\")",
   "id": "c4a1f60980689afd",
   "outputs": [],
   "execution_count": 14
  },
  {
   "metadata": {
    "ExecuteTime": {
     "end_time": "2024-11-29T11:59:57.983471Z",
     "start_time": "2024-11-29T11:59:57.975642Z"
    }
   },
   "cell_type": "code",
   "source": "df.head()",
   "id": "a3f53525a3c130c0",
   "outputs": [
    {
     "data": {
      "text/plain": [
       "  arch_id                                           arch_str  params  \\\n",
       "0       0  |avg_pool_3x3~0|+|nor_conv_1x1~0|skip_connect~...  129306   \n",
       "1       1  |nor_conv_3x3~0|+|nor_conv_3x3~0|avg_pool_3x3~...  802426   \n",
       "2       2  |avg_pool_3x3~0|+|nor_conv_3x3~0|nor_conv_3x3~...  559386   \n",
       "3       3  |avg_pool_3x3~0|+|skip_connect~0|none~1|+|none...   73306   \n",
       "4       4  |skip_connect~0|+|skip_connect~0|nor_conv_1x1~...  129306   \n",
       "\n",
       "   cifar_10_val_accuracy  \n",
       "0                  81.90  \n",
       "1                  90.39  \n",
       "2                  81.93  \n",
       "3                  83.78  \n",
       "4                  84.26  "
      ],
      "text/html": [
       "<div>\n",
       "<style scoped>\n",
       "    .dataframe tbody tr th:only-of-type {\n",
       "        vertical-align: middle;\n",
       "    }\n",
       "\n",
       "    .dataframe tbody tr th {\n",
       "        vertical-align: top;\n",
       "    }\n",
       "\n",
       "    .dataframe thead th {\n",
       "        text-align: right;\n",
       "    }\n",
       "</style>\n",
       "<table border=\"1\" class=\"dataframe\">\n",
       "  <thead>\n",
       "    <tr style=\"text-align: right;\">\n",
       "      <th></th>\n",
       "      <th>arch_id</th>\n",
       "      <th>arch_str</th>\n",
       "      <th>params</th>\n",
       "      <th>cifar_10_val_accuracy</th>\n",
       "    </tr>\n",
       "  </thead>\n",
       "  <tbody>\n",
       "    <tr>\n",
       "      <th>0</th>\n",
       "      <td>0</td>\n",
       "      <td>|avg_pool_3x3~0|+|nor_conv_1x1~0|skip_connect~...</td>\n",
       "      <td>129306</td>\n",
       "      <td>81.90</td>\n",
       "    </tr>\n",
       "    <tr>\n",
       "      <th>1</th>\n",
       "      <td>1</td>\n",
       "      <td>|nor_conv_3x3~0|+|nor_conv_3x3~0|avg_pool_3x3~...</td>\n",
       "      <td>802426</td>\n",
       "      <td>90.39</td>\n",
       "    </tr>\n",
       "    <tr>\n",
       "      <th>2</th>\n",
       "      <td>2</td>\n",
       "      <td>|avg_pool_3x3~0|+|nor_conv_3x3~0|nor_conv_3x3~...</td>\n",
       "      <td>559386</td>\n",
       "      <td>81.93</td>\n",
       "    </tr>\n",
       "    <tr>\n",
       "      <th>3</th>\n",
       "      <td>3</td>\n",
       "      <td>|avg_pool_3x3~0|+|skip_connect~0|none~1|+|none...</td>\n",
       "      <td>73306</td>\n",
       "      <td>83.78</td>\n",
       "    </tr>\n",
       "    <tr>\n",
       "      <th>4</th>\n",
       "      <td>4</td>\n",
       "      <td>|skip_connect~0|+|skip_connect~0|nor_conv_1x1~...</td>\n",
       "      <td>129306</td>\n",
       "      <td>84.26</td>\n",
       "    </tr>\n",
       "  </tbody>\n",
       "</table>\n",
       "</div>"
      ]
     },
     "execution_count": 15,
     "metadata": {},
     "output_type": "execute_result"
    }
   ],
   "execution_count": 15
  }
 ],
 "metadata": {
  "kernelspec": {
   "display_name": "Python 3",
   "language": "python",
   "name": "python3"
  },
  "language_info": {
   "codemirror_mode": {
    "name": "ipython",
    "version": 2
   },
   "file_extension": ".py",
   "mimetype": "text/x-python",
   "name": "python",
   "nbconvert_exporter": "python",
   "pygments_lexer": "ipython2",
   "version": "2.7.6"
  }
 },
 "nbformat": 4,
 "nbformat_minor": 5
}
