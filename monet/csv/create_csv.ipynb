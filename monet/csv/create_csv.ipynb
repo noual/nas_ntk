{
 "cells": [
  {
   "cell_type": "code",
   "execution_count": 1,
   "id": "initial_id",
   "metadata": {
    "ExecuteTime": {
     "end_time": "2024-12-05T09:45:09.781787Z",
     "start_time": "2024-12-05T09:45:08.701594Z"
    }
   },
   "outputs": [],
   "source": [
    "import pandas as pd\n",
    "from tqdm import tqdm\n",
    "import sys\n",
    "sys.path.append(\"../..\")\n",
    "from naslib.utils import get_dataset_api\n",
    "\n",
    "from naslib.search_spaces.core import Metric\n"
   ]
  },
  {
   "cell_type": "markdown",
   "id": "ba2e243880f14edb",
   "metadata": {},
   "source": [
    "# NASBench201"
   ]
  },
  {
   "cell_type": "code",
   "execution_count": 2,
   "id": "fd5842064bdaf601",
   "metadata": {
    "ExecuteTime": {
     "end_time": "2024-11-29T10:58:01.113055Z",
     "start_time": "2024-11-29T10:57:43.624290Z"
    }
   },
   "outputs": [
    {
     "name": "stderr",
     "output_type": "stream",
     "text": [
      "0it [00:00, ?it/s]\n"
     ]
    },
    {
     "ename": "KeyError",
     "evalue": "'cifar100'",
     "output_type": "error",
     "traceback": [
      "\u001b[0;31m---------------------------------------------------------------------------\u001b[0m",
      "\u001b[0;31mKeyError\u001b[0m                                  Traceback (most recent call last)",
      "\u001b[0;32m/tmp/ipykernel_1243146/902753638.py\u001b[0m in \u001b[0;36m<module>\u001b[0;34m\u001b[0m\n\u001b[1;32m     21\u001b[0m     \u001b[0mcifar_10_val_accuracy\u001b[0m \u001b[0;34m=\u001b[0m \u001b[0mobjec\u001b[0m\u001b[0;34m.\u001b[0m\u001b[0mquery\u001b[0m\u001b[0;34m(\u001b[0m\u001b[0mdataset\u001b[0m\u001b[0;34m=\u001b[0m\u001b[0;34m'cifar10'\u001b[0m\u001b[0;34m,\u001b[0m \u001b[0mmetric\u001b[0m\u001b[0;34m=\u001b[0m\u001b[0mMetric\u001b[0m\u001b[0;34m.\u001b[0m\u001b[0mVAL_ACCURACY\u001b[0m\u001b[0;34m,\u001b[0m \u001b[0mdataset_api\u001b[0m\u001b[0;34m=\u001b[0m\u001b[0mcifar10_dataset_api\u001b[0m\u001b[0;34m)\u001b[0m\u001b[0;34m\u001b[0m\u001b[0;34m\u001b[0m\u001b[0m\n\u001b[1;32m     22\u001b[0m     \u001b[0mcifar_100_val_accuracy\u001b[0m \u001b[0;34m=\u001b[0m \u001b[0mobjec\u001b[0m\u001b[0;34m.\u001b[0m\u001b[0mquery\u001b[0m\u001b[0;34m(\u001b[0m\u001b[0mdataset\u001b[0m\u001b[0;34m=\u001b[0m\u001b[0;34m'cifar100'\u001b[0m\u001b[0;34m,\u001b[0m \u001b[0mmetric\u001b[0m\u001b[0;34m=\u001b[0m\u001b[0mMetric\u001b[0m\u001b[0;34m.\u001b[0m\u001b[0mVAL_ACCURACY\u001b[0m\u001b[0;34m,\u001b[0m \u001b[0mdataset_api\u001b[0m\u001b[0;34m=\u001b[0m\u001b[0mcifar100_dataset_api\u001b[0m\u001b[0;34m)\u001b[0m\u001b[0;34m\u001b[0m\u001b[0;34m\u001b[0m\u001b[0m\n\u001b[0;32m---> 23\u001b[0;31m     \u001b[0mparams\u001b[0m \u001b[0;34m=\u001b[0m \u001b[0mobjec\u001b[0m\u001b[0;34m.\u001b[0m\u001b[0mquery\u001b[0m\u001b[0;34m(\u001b[0m\u001b[0mdataset\u001b[0m\u001b[0;34m=\u001b[0m\u001b[0;34m'cifar100'\u001b[0m\u001b[0;34m,\u001b[0m \u001b[0mmetric\u001b[0m\u001b[0;34m=\u001b[0m\u001b[0mMetric\u001b[0m\u001b[0;34m.\u001b[0m\u001b[0mPARAMETERS\u001b[0m\u001b[0;34m,\u001b[0m \u001b[0mdataset_api\u001b[0m\u001b[0;34m=\u001b[0m\u001b[0mcifar10_dataset_api\u001b[0m\u001b[0;34m)\u001b[0m\u001b[0;34m\u001b[0m\u001b[0;34m\u001b[0m\u001b[0m\n\u001b[0m\u001b[1;32m     24\u001b[0m     \u001b[0mlatency\u001b[0m \u001b[0;34m=\u001b[0m \u001b[0mobjec\u001b[0m\u001b[0;34m.\u001b[0m\u001b[0mquery\u001b[0m\u001b[0;34m(\u001b[0m\u001b[0mdataset\u001b[0m\u001b[0;34m=\u001b[0m\u001b[0;34m'cifar10'\u001b[0m\u001b[0;34m,\u001b[0m \u001b[0mmetric\u001b[0m\u001b[0;34m=\u001b[0m\u001b[0mMetric\u001b[0m\u001b[0;34m.\u001b[0m\u001b[0mLATENCY\u001b[0m\u001b[0;34m,\u001b[0m \u001b[0mdataset_api\u001b[0m\u001b[0;34m=\u001b[0m\u001b[0mcifar10_dataset_api\u001b[0m\u001b[0;34m)\u001b[0m\u001b[0;34m\u001b[0m\u001b[0;34m\u001b[0m\u001b[0m\n\u001b[1;32m     25\u001b[0m     \u001b[0mprint\u001b[0m\u001b[0;34m(\u001b[0m\u001b[0mcifar_100_val_accuracy\u001b[0m\u001b[0;34m,\u001b[0m \u001b[0mcifar_10_val_accuracy\u001b[0m\u001b[0;34m,\u001b[0m \u001b[0mparams\u001b[0m\u001b[0;34m,\u001b[0m \u001b[0mlatency\u001b[0m\u001b[0;34m)\u001b[0m\u001b[0;34m\u001b[0m\u001b[0;34m\u001b[0m\u001b[0m\n",
      "\u001b[0;32m~/projets/nas_ntk/naslib/search_spaces/nasbench201/graph.py\u001b[0m in \u001b[0;36mquery\u001b[0;34m(self, metric, dataset, path, epoch, full_lc, dataset_api)\u001b[0m\n\u001b[1;32m    211\u001b[0m         \u001b[0;32melse\u001b[0m\u001b[0;34m:\u001b[0m\u001b[0;34m\u001b[0m\u001b[0;34m\u001b[0m\u001b[0m\n\u001b[1;32m    212\u001b[0m             \u001b[0;31m# return the value of the metric only at the specified epoch\u001b[0m\u001b[0;34m\u001b[0m\u001b[0;34m\u001b[0m\u001b[0;34m\u001b[0m\u001b[0m\n\u001b[0;32m--> 213\u001b[0;31m             \u001b[0;32mreturn\u001b[0m \u001b[0mquery_results\u001b[0m\u001b[0;34m[\u001b[0m\u001b[0mdataset\u001b[0m\u001b[0;34m]\u001b[0m\u001b[0;34m[\u001b[0m\u001b[0mmetric_to_nb201\u001b[0m\u001b[0;34m[\u001b[0m\u001b[0mmetric\u001b[0m\u001b[0;34m]\u001b[0m\u001b[0;34m]\u001b[0m\u001b[0;34m[\u001b[0m\u001b[0mepoch\u001b[0m\u001b[0;34m]\u001b[0m\u001b[0;34m\u001b[0m\u001b[0;34m\u001b[0m\u001b[0m\n\u001b[0m\u001b[1;32m    214\u001b[0m \u001b[0;34m\u001b[0m\u001b[0m\n\u001b[1;32m    215\u001b[0m     \u001b[0;32mdef\u001b[0m \u001b[0mget_op_indices\u001b[0m\u001b[0;34m(\u001b[0m\u001b[0mself\u001b[0m\u001b[0;34m)\u001b[0m \u001b[0;34m->\u001b[0m \u001b[0mlist\u001b[0m\u001b[0;34m:\u001b[0m\u001b[0;34m\u001b[0m\u001b[0;34m\u001b[0m\u001b[0m\n",
      "\u001b[0;31mKeyError\u001b[0m: 'cifar100'"
     ]
    }
   ],
   "source": [
    "from naslib.search_spaces import nasbench201 as nb201\n",
    "from naslib.search_spaces.nasbench201.graph import NasBench201SearchSpace\n",
    "\n",
    "from nas_201_api import NASBench201API\n",
    "\n",
    "cifar10_dataset_api = get_dataset_api(\"nasbench201\", 'cifar10')\n",
    "cifar100_dataset_api = get_dataset_api(\"nasbench201\", 'cifar100')\n",
    "real_nb201_api = NASBench201API(\"../../naslib/data/NAS-Bench-201-v1_0-e61699.pth\", verbose=False)\n",
    "from xautodl.models import get_cell_based_tiny_net\n",
    "from naslib.search_spaces.nasbench201.conversions import convert_str_to_op_indices, convert_op_indices_to_naslib\n"
   ]
  },
  {
   "cell_type": "code",
   "execution_count": 13,
   "id": "33a44885e2ade4e8",
   "metadata": {
    "ExecuteTime": {
     "end_time": "2024-11-29T11:54:56.098750Z",
     "start_time": "2024-11-29T11:02:21.406784Z"
    }
   },
   "outputs": [
    {
     "name": "stderr",
     "output_type": "stream",
     "text": [
      "15625it [52:34,  4.95it/s] \n"
     ]
    }
   ],
   "source": [
    "import numpy as np\n",
    "\n",
    "df = pd.DataFrame(columns=[\"arch_id\", \"arch_str\", \"params\", \"cifar_10_val_accuracy\"])\n",
    "\n",
    "for i, arch_str in tqdm(enumerate(real_nb201_api)):\n",
    "    indices = convert_str_to_op_indices(arch_str)\n",
    "    objec = NasBench201SearchSpace()\n",
    "    convert_op_indices_to_naslib(indices, objec)\n",
    "    cifar_10_val_accuracy = objec.query(dataset='cifar10', metric=Metric.VAL_ACCURACY, dataset_api=cifar10_dataset_api)\n",
    "    cifar_100_val_accuracy = objec.query(dataset='cifar100', metric=Metric.VAL_ACCURACY, dataset_api=cifar100_dataset_api)\n",
    "\n",
    "    id = real_nb201_api.query_index_by_arch(arch_str)\n",
    "    config = real_nb201_api.get_net_config(id, 'cifar10-valid')  # obtain the network configuration for the n-th architecture on the CIFAR-10 dataset\n",
    "    network = get_cell_based_tiny_net(config)  # create the network from configuration\n",
    "    params = sum([np.prod(p.size()) for p in network.parameters()])\n",
    "\n",
    "    df = df.append({\"arch_id\": id, \"arch_str\": arch_str, \"params\": params, \"cifar_10_val_accuracy\": cifar_10_val_accuracy}, ignore_index=True)"
   ]
  },
  {
   "cell_type": "code",
   "execution_count": 14,
   "id": "c4a1f60980689afd",
   "metadata": {
    "ExecuteTime": {
     "end_time": "2024-11-29T11:54:56.215592Z",
     "start_time": "2024-11-29T11:54:56.185957Z"
    }
   },
   "outputs": [],
   "source": [
    "df.to_csv(\"nasbench201.csv\")"
   ]
  },
  {
   "cell_type": "code",
   "execution_count": 15,
   "id": "a3f53525a3c130c0",
   "metadata": {
    "ExecuteTime": {
     "end_time": "2024-11-29T11:59:57.983471Z",
     "start_time": "2024-11-29T11:59:57.975642Z"
    }
   },
   "outputs": [
    {
     "data": {
      "text/html": [
       "<div>\n",
       "<style scoped>\n",
       "    .dataframe tbody tr th:only-of-type {\n",
       "        vertical-align: middle;\n",
       "    }\n",
       "\n",
       "    .dataframe tbody tr th {\n",
       "        vertical-align: top;\n",
       "    }\n",
       "\n",
       "    .dataframe thead th {\n",
       "        text-align: right;\n",
       "    }\n",
       "</style>\n",
       "<table border=\"1\" class=\"dataframe\">\n",
       "  <thead>\n",
       "    <tr style=\"text-align: right;\">\n",
       "      <th></th>\n",
       "      <th>arch_id</th>\n",
       "      <th>arch_str</th>\n",
       "      <th>params</th>\n",
       "      <th>cifar_10_val_accuracy</th>\n",
       "    </tr>\n",
       "  </thead>\n",
       "  <tbody>\n",
       "    <tr>\n",
       "      <th>0</th>\n",
       "      <td>0</td>\n",
       "      <td>|avg_pool_3x3~0|+|nor_conv_1x1~0|skip_connect~...</td>\n",
       "      <td>129306</td>\n",
       "      <td>81.90</td>\n",
       "    </tr>\n",
       "    <tr>\n",
       "      <th>1</th>\n",
       "      <td>1</td>\n",
       "      <td>|nor_conv_3x3~0|+|nor_conv_3x3~0|avg_pool_3x3~...</td>\n",
       "      <td>802426</td>\n",
       "      <td>90.39</td>\n",
       "    </tr>\n",
       "    <tr>\n",
       "      <th>2</th>\n",
       "      <td>2</td>\n",
       "      <td>|avg_pool_3x3~0|+|nor_conv_3x3~0|nor_conv_3x3~...</td>\n",
       "      <td>559386</td>\n",
       "      <td>81.93</td>\n",
       "    </tr>\n",
       "    <tr>\n",
       "      <th>3</th>\n",
       "      <td>3</td>\n",
       "      <td>|avg_pool_3x3~0|+|skip_connect~0|none~1|+|none...</td>\n",
       "      <td>73306</td>\n",
       "      <td>83.78</td>\n",
       "    </tr>\n",
       "    <tr>\n",
       "      <th>4</th>\n",
       "      <td>4</td>\n",
       "      <td>|skip_connect~0|+|skip_connect~0|nor_conv_1x1~...</td>\n",
       "      <td>129306</td>\n",
       "      <td>84.26</td>\n",
       "    </tr>\n",
       "  </tbody>\n",
       "</table>\n",
       "</div>"
      ],
      "text/plain": [
       "  arch_id                                           arch_str  params  \\\n",
       "0       0  |avg_pool_3x3~0|+|nor_conv_1x1~0|skip_connect~...  129306   \n",
       "1       1  |nor_conv_3x3~0|+|nor_conv_3x3~0|avg_pool_3x3~...  802426   \n",
       "2       2  |avg_pool_3x3~0|+|nor_conv_3x3~0|nor_conv_3x3~...  559386   \n",
       "3       3  |avg_pool_3x3~0|+|skip_connect~0|none~1|+|none...   73306   \n",
       "4       4  |skip_connect~0|+|skip_connect~0|nor_conv_1x1~...  129306   \n",
       "\n",
       "   cifar_10_val_accuracy  \n",
       "0                  81.90  \n",
       "1                  90.39  \n",
       "2                  81.93  \n",
       "3                  83.78  \n",
       "4                  84.26  "
      ]
     },
     "execution_count": 15,
     "metadata": {},
     "output_type": "execute_result"
    }
   ],
   "source": [
    "df.head()"
   ]
  },
  {
   "cell_type": "markdown",
   "id": "4732f7e926a4778b",
   "metadata": {},
   "source": [
    "# NAS-Bench-101"
   ]
  },
  {
   "cell_type": "code",
   "execution_count": 10,
   "id": "bcd67689943bb59a",
   "metadata": {
    "ExecuteTime": {
     "end_time": "2024-12-02T10:28:37.495003Z",
     "start_time": "2024-12-02T10:27:22.351738Z"
    }
   },
   "outputs": [
    {
     "name": "stdout",
     "output_type": "stream",
     "text": [
      "Loading dataset from file... This may take a few minutes...\n",
      "Loaded dataset in 74 seconds\n"
     ]
    },
    {
     "ename": "NameError",
     "evalue": "name 'get_dataset_api' is not defined",
     "output_type": "error",
     "traceback": [
      "\u001b[0;31m---------------------------------------------------------------------------\u001b[0m",
      "\u001b[0;31mNameError\u001b[0m                                 Traceback (most recent call last)",
      "\u001b[0;32m/tmp/ipykernel_6953/1424980044.py\u001b[0m in \u001b[0;36m<module>\u001b[0;34m\u001b[0m\n\u001b[1;32m      2\u001b[0m \u001b[0;32mfrom\u001b[0m \u001b[0mnasbench\u001b[0m \u001b[0;32mimport\u001b[0m \u001b[0mapi\u001b[0m\u001b[0;34m\u001b[0m\u001b[0;34m\u001b[0m\u001b[0m\n\u001b[1;32m      3\u001b[0m \u001b[0mnasbench101_api\u001b[0m \u001b[0;34m=\u001b[0m \u001b[0mapi\u001b[0m\u001b[0;34m.\u001b[0m\u001b[0mNASBench\u001b[0m\u001b[0;34m(\u001b[0m\u001b[0;34m'../../naslib/data/nasbench_full.tfrecord'\u001b[0m\u001b[0;34m)\u001b[0m\u001b[0;34m\u001b[0m\u001b[0;34m\u001b[0m\u001b[0m\n\u001b[0;32m----> 4\u001b[0;31m \u001b[0mnb101_api\u001b[0m \u001b[0;34m=\u001b[0m \u001b[0mget_dataset_api\u001b[0m\u001b[0;34m(\u001b[0m\u001b[0;34m\"nasbench101\"\u001b[0m\u001b[0;34m,\u001b[0m \u001b[0;34m'cifar10'\u001b[0m\u001b[0;34m)\u001b[0m\u001b[0;34m\u001b[0m\u001b[0;34m\u001b[0m\u001b[0m\n\u001b[0m\u001b[1;32m      5\u001b[0m \u001b[0;34m\u001b[0m\u001b[0m\n",
      "\u001b[0;31mNameError\u001b[0m: name 'get_dataset_api' is not defined"
     ]
    }
   ],
   "source": [
    "from naslib.search_spaces import nasbench101 as nb101\n",
    "from nasbench import api\n",
    "nasbench101_api = api.NASBench('../../naslib/data/nasbench_full.tfrecord')\n"
   ]
  },
  {
   "cell_type": "code",
   "execution_count": 24,
   "id": "6818ce591c18045d",
   "metadata": {
    "ExecuteTime": {
     "end_time": "2024-12-02T10:32:32.787760Z",
     "start_time": "2024-12-02T10:32:29.316616Z"
    }
   },
   "outputs": [
    {
     "name": "stdout",
     "output_type": "stream",
     "text": [
      "Loading dataset from file... This may take a few minutes...\n",
      "Loaded dataset in 3 seconds\n"
     ]
    }
   ],
   "source": [
    "from naslib.utils import get_dataset_api\n",
    "\n",
    "nb101_api = get_dataset_api(\"nasbench101\", 'cifar10')\n"
   ]
  },
  {
   "cell_type": "code",
   "execution_count": 25,
   "id": "642acabe38fc550",
   "metadata": {
    "ExecuteTime": {
     "end_time": "2024-12-02T10:33:04.291678Z",
     "start_time": "2024-12-02T10:33:04.288841Z"
    }
   },
   "outputs": [],
   "source": [
    "nb101_data = nb101_api[\"nb101_data\"]"
   ]
  },
  {
   "cell_type": "code",
   "execution_count": 45,
   "id": "df56bc4cca8bded2",
   "metadata": {
    "ExecuteTime": {
     "end_time": "2024-12-02T11:52:06.534989Z",
     "start_time": "2024-12-02T10:43:20.469024Z"
    }
   },
   "outputs": [
    {
     "name": "stderr",
     "output_type": "stream",
     "text": [
      "100%|██████████| 423624/423624 [1:08:46<00:00, 102.67it/s]\n"
     ]
    }
   ],
   "source": [
    "df = pd.DataFrame(columns=[\"arch_id\", \"arch_hash\", \"params\", \"cifar_10_val_accuracy\"])\n",
    "hash_iterator = nb101_data.hash_iterator()\n",
    "for i, hash in tqdm(enumerate(hash_iterator), total=len(hash_iterator)):\n",
    "    metrics = nb101_data.get_metrics_from_hash(hash)\n",
    "    params = metrics[0][\"trainable_parameters\"]\n",
    "    cifar_10_val_accuracy = metrics[1][108][0][\"final_validation_accuracy\"]\n",
    "    df = df.append({\"arch_id\": i, \"arch_hash\": hash, \"params\": params, \"cifar_10_val_accuracy\": cifar_10_val_accuracy}, ignore_index=True)"
   ]
  },
  {
   "cell_type": "code",
   "execution_count": 46,
   "id": "f9d80ab704e92a53",
   "metadata": {
    "ExecuteTime": {
     "end_time": "2024-12-02T11:52:07.507027Z",
     "start_time": "2024-12-02T11:52:06.634205Z"
    }
   },
   "outputs": [],
   "source": [
    "df.to_csv(\"nasbench101.csv\")"
   ]
  },
  {
   "cell_type": "markdown",
   "id": "3d09d7d60ddea74a",
   "metadata": {},
   "source": [
    "# NATS-Bench"
   ]
  },
  {
   "cell_type": "code",
   "execution_count": 2,
   "id": "25418eef5572bb03",
   "metadata": {
    "ExecuteTime": {
     "end_time": "2024-12-05T09:45:16.098625Z",
     "start_time": "2024-12-05T09:45:16.046769Z"
    }
   },
   "outputs": [
    {
     "name": "stdout",
     "output_type": "stream",
     "text": [
      "[2024-12-05 10:12:51] Try to use the default NATS-Bench (size) path from fast_mode=True and path=None.\n",
      "[2024-12-05 10:12:51] Try to use the default NATS-Bench (size) path from fast_mode=True and path=None.\n"
     ]
    }
   ],
   "source": [
    "from naslib.search_spaces import natsbenchsize as nbs\n",
    "dataset_api = get_dataset_api(\"natsbenchsize\", 'cifar100')\n",
    "\n",
    "cifar10_dataset_api = get_dataset_api(\"natsbenchsize\", 'cifar100')\n",
    "df = pd.DataFrame(columns=[\"arch_id\", \"arch_channels\", \"params\", \"cifar_100_val_accuracy\"])\n"
   ]
  },
  {
   "cell_type": "code",
   "execution_count": null,
   "id": "5006e19e704873ee",
   "metadata": {
    "ExecuteTime": {
     "start_time": "2024-12-05T09:25:54.642547Z"
    },
    "jupyter": {
     "is_executing": true
    }
   },
   "outputs": [
    {
     "name": "stderr",
     "output_type": "stream",
     "text": [
      " 54%|█████████████████████████████████████████████████▊                                          | 17757/32768 [03:41<03:06, 80.54it/s]"
     ]
    }
   ],
   "source": [
    "import nats_bench\n",
    "import xautodl\n",
    "from xautodl.models import get_cell_based_tiny_net\n",
    "real_api = nats_bench.create(\"/home/lam/projets/nas_ntk/naslib/data/NATS-sss-v1_0-50262-simple\", \"sss\", fast_mode=True, verbose=False)\n",
    "for i, arch in tqdm(enumerate(dataset_api), total=len(dataset_api)):\n",
    "    a = nbs.graph.NATSBenchSizeSearchSpace()\n",
    "    channels = [int(e) for e in arch.split(\":\")]\n",
    "    # 2. Find the associated architecture index in the api\n",
    "    index = real_api.query_index_by_arch(arch)\n",
    "    # 3. Fetch desired metric from API.\n",
    "    config = real_api.get_net_config(index, 'cifar10')\n",
    "    network = get_cell_based_tiny_net(config)\n",
    "    n_params = sum(p.numel() for p in network.parameters())\n",
    "    a.set_channels(channels)\n",
    "    cifar_100_val_accuracy = a.query(dataset='cifar100', metric=Metric.VAL_ACCURACY, dataset_api=cifar10_dataset_api)\n",
    "    #df = df.append({\"arch_id\": i, \"arch_channels\": arch, \"params\": n_params, \"cifar_100_val_accuracy\": cifar_100_val_accuracy}, ignore_index=True)"
   ]
  },
  {
   "cell_type": "code",
   "execution_count": null,
   "id": "bdb76d85d1bc8834",
   "metadata": {},
   "outputs": [],
   "source": [
    "df.to_csv(\"natsbenchsize.csv\")"
   ]
  }
 ],
 "metadata": {
  "kernelspec": {
   "display_name": "Python 3 (ipykernel)",
   "language": "python",
   "name": "python3"
  },
  "language_info": {
   "codemirror_mode": {
    "name": "ipython",
    "version": 3
   },
   "file_extension": ".py",
   "mimetype": "text/x-python",
   "name": "python",
   "nbconvert_exporter": "python",
   "pygments_lexer": "ipython3",
   "version": "3.7.12"
  }
 },
 "nbformat": 4,
 "nbformat_minor": 5
}
