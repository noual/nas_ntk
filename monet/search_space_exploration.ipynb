{
 "cells": [
  {
   "cell_type": "markdown",
   "id": "4533c027c10365c9",
   "metadata": {},
   "source": [
    "# NASLib : Exploring the search spaces"
   ]
  },
  {
   "cell_type": "code",
   "id": "1e2dd62099fecb62",
   "metadata": {
    "ExecuteTime": {
     "end_time": "2024-11-26T16:42:02.333793Z",
     "start_time": "2024-11-26T16:42:01.119203Z"
    }
   },
   "source": [
    "import numpy as np\n",
    "import matplotlib.pyplot as plt\n",
    "from monet.utils.helpers import configure_seaborn\n",
    "import seaborn as sns\n",
    "configure_seaborn()\n",
    "from naslib.utils import get_dataset_api\n",
    "from naslib.search_spaces.core.query_metrics import Metric\n",
    "from tqdm import tqdm"
   ],
   "outputs": [],
   "execution_count": 1
  },
  {
   "cell_type": "markdown",
   "id": "d7a58450718a0806",
   "metadata": {},
   "source": [
    "## NAS-Bench-201\n",
    "Let's all begin with our favorite search space, NAS-Bench-201."
   ]
  },
  {
   "cell_type": "code",
   "id": "ba87612ffe68b18f",
   "metadata": {
    "ExecuteTime": {
     "end_time": "2024-11-26T15:23:35.248031Z",
     "start_time": "2024-11-26T15:23:35.245366Z"
    }
   },
   "source": [
    "from naslib.search_spaces import nasbench201 as nb201"
   ],
   "outputs": [],
   "execution_count": 2
  },
  {
   "cell_type": "markdown",
   "id": "29eb3fec413a71c0",
   "metadata": {},
   "source": [
    "Plot all architectures"
   ]
  },
  {
   "cell_type": "code",
   "id": "1fd59d33c9cd2f04",
   "metadata": {
    "ExecuteTime": {
     "end_time": "2024-11-26T15:01:12.557978Z",
     "start_time": "2024-11-26T15:01:12.543011Z"
    }
   },
   "source": [
    "from nas_201_api import NASBench201API"
   ],
   "outputs": [],
   "execution_count": 3
  },
  {
   "cell_type": "code",
   "id": "73d73c275c1e9fd3",
   "metadata": {
    "ExecuteTime": {
     "end_time": "2024-11-26T15:01:29.234973Z",
     "start_time": "2024-11-26T15:01:12.793355Z"
    }
   },
   "source": [
    "dataset_api = get_dataset_api(\"nasbench201\", 'cifar10')\n",
    "real_nb201_api = NASBench201API(\"../naslib/data/NAS-Bench-201-v1_0-e61699.pth\", verbose=False)"
   ],
   "outputs": [],
   "execution_count": 4
  },
  {
   "cell_type": "code",
   "id": "2e51f9cb5004098d",
   "metadata": {
    "scrolled": true,
    "ExecuteTime": {
     "end_time": "2024-11-26T15:01:35.955842Z",
     "start_time": "2024-11-26T15:01:29.258255Z"
    }
   },
   "source": [
    "from xautodl.models import get_cell_based_tiny_net\n",
    "from naslib.search_spaces.nasbench201.conversions import convert_str_to_op_indices, convert_op_indices_to_naslib\n",
    "params = []\n",
    "accuracies = []\n",
    "\n",
    "for i, arch_str in tqdm(enumerate(real_nb201_api)):\n",
    "    indices = convert_str_to_op_indices(arch_str)\n",
    "    objec = nb201.graph.NasBench201SearchSpace()\n",
    "    convert_op_indices_to_naslib(indices, objec)\n",
    "    naslib_results = objec.query(dataset='cifar10', metric=Metric.VAL_ACCURACY, dataset_api=dataset_api)\n",
    "    id = real_nb201_api.query_index_by_arch(arch_str)\n",
    "    info = real_nb201_api.query_meta_info_by_index(id, hp=\"200\")\n",
    "    nb_results = info.get_metrics(\"cifar10-valid\", \"x-valid\")[\"accuracy\"]\n",
    "    config = real_nb201_api.get_net_config(id, 'cifar10-valid')  # obtain the network configuration for the n-th architecture on the CIFAR-10 dataset\n",
    "    network = get_cell_based_tiny_net(config)  # create the network from configuration\n",
    "    n_params = sum([np.prod(p.size()) for p in network.parameters()])\n",
    "    params.append(n_params)\n",
    "    accuracies.append(nb_results)\n"
   ],
   "outputs": [
    {
     "name": "stderr",
     "output_type": "stream",
     "text": [
      "50it [00:06,  7.70it/s]\n"
     ]
    },
    {
     "ename": "KeyboardInterrupt",
     "evalue": "",
     "output_type": "error",
     "traceback": [
      "\u001B[0;31m---------------------------------------------------------------------------\u001B[0m",
      "\u001B[0;31mKeyboardInterrupt\u001B[0m                         Traceback (most recent call last)",
      "\u001B[0;32m/tmp/ipykernel_144868/3495036787.py\u001B[0m in \u001B[0;36m<module>\u001B[0;34m\u001B[0m\n\u001B[1;32m      6\u001B[0m \u001B[0;32mfor\u001B[0m \u001B[0mi\u001B[0m\u001B[0;34m,\u001B[0m \u001B[0march_str\u001B[0m \u001B[0;32min\u001B[0m \u001B[0mtqdm\u001B[0m\u001B[0;34m(\u001B[0m\u001B[0menumerate\u001B[0m\u001B[0;34m(\u001B[0m\u001B[0mreal_nb201_api\u001B[0m\u001B[0;34m)\u001B[0m\u001B[0;34m)\u001B[0m\u001B[0;34m:\u001B[0m\u001B[0;34m\u001B[0m\u001B[0;34m\u001B[0m\u001B[0m\n\u001B[1;32m      7\u001B[0m     \u001B[0mindices\u001B[0m \u001B[0;34m=\u001B[0m \u001B[0mconvert_str_to_op_indices\u001B[0m\u001B[0;34m(\u001B[0m\u001B[0march_str\u001B[0m\u001B[0;34m)\u001B[0m\u001B[0;34m\u001B[0m\u001B[0;34m\u001B[0m\u001B[0m\n\u001B[0;32m----> 8\u001B[0;31m     \u001B[0mobjec\u001B[0m \u001B[0;34m=\u001B[0m \u001B[0mnb201\u001B[0m\u001B[0;34m.\u001B[0m\u001B[0mgraph\u001B[0m\u001B[0;34m.\u001B[0m\u001B[0mNasBench201SearchSpace\u001B[0m\u001B[0;34m(\u001B[0m\u001B[0;34m)\u001B[0m\u001B[0;34m\u001B[0m\u001B[0;34m\u001B[0m\u001B[0m\n\u001B[0m\u001B[1;32m      9\u001B[0m     \u001B[0mconvert_op_indices_to_naslib\u001B[0m\u001B[0;34m(\u001B[0m\u001B[0mindices\u001B[0m\u001B[0;34m,\u001B[0m \u001B[0mobjec\u001B[0m\u001B[0;34m)\u001B[0m\u001B[0;34m\u001B[0m\u001B[0;34m\u001B[0m\u001B[0m\n\u001B[1;32m     10\u001B[0m     \u001B[0mnaslib_results\u001B[0m \u001B[0;34m=\u001B[0m \u001B[0mobjec\u001B[0m\u001B[0;34m.\u001B[0m\u001B[0mquery\u001B[0m\u001B[0;34m(\u001B[0m\u001B[0mdataset\u001B[0m\u001B[0;34m=\u001B[0m\u001B[0;34m'cifar10'\u001B[0m\u001B[0;34m,\u001B[0m \u001B[0mmetric\u001B[0m\u001B[0;34m=\u001B[0m\u001B[0mMetric\u001B[0m\u001B[0;34m.\u001B[0m\u001B[0mVAL_ACCURACY\u001B[0m\u001B[0;34m,\u001B[0m \u001B[0mdataset_api\u001B[0m\u001B[0;34m=\u001B[0m\u001B[0mdataset_api\u001B[0m\u001B[0;34m)\u001B[0m\u001B[0;34m\u001B[0m\u001B[0;34m\u001B[0m\u001B[0m\n",
      "\u001B[0;32m~/projets/NASLib/naslib/search_spaces/nasbench201/graph.py\u001B[0m in \u001B[0;36m__init__\u001B[0;34m(self, n_classes, in_channels)\u001B[0m\n\u001B[1;32m    113\u001B[0m         \u001B[0;31m# stage 3\u001B[0m\u001B[0;34m\u001B[0m\u001B[0;34m\u001B[0m\u001B[0;34m\u001B[0m\u001B[0m\n\u001B[1;32m    114\u001B[0m         self.edges[13, 14].set(\n\u001B[0;32m--> 115\u001B[0;31m             \u001B[0;34m\"op\"\u001B[0m\u001B[0;34m,\u001B[0m \u001B[0mResNetBasicblock\u001B[0m\u001B[0;34m(\u001B[0m\u001B[0mC_in\u001B[0m\u001B[0;34m=\u001B[0m\u001B[0mself\u001B[0m\u001B[0;34m.\u001B[0m\u001B[0mchannels\u001B[0m\u001B[0;34m[\u001B[0m\u001B[0;36m1\u001B[0m\u001B[0;34m]\u001B[0m\u001B[0;34m,\u001B[0m \u001B[0mC_out\u001B[0m\u001B[0;34m=\u001B[0m\u001B[0mself\u001B[0m\u001B[0;34m.\u001B[0m\u001B[0mchannels\u001B[0m\u001B[0;34m[\u001B[0m\u001B[0;36m2\u001B[0m\u001B[0;34m]\u001B[0m\u001B[0;34m,\u001B[0m \u001B[0mstride\u001B[0m\u001B[0;34m=\u001B[0m\u001B[0;36m2\u001B[0m\u001B[0;34m)\u001B[0m\u001B[0;34m\u001B[0m\u001B[0;34m\u001B[0m\u001B[0m\n\u001B[0m\u001B[1;32m    116\u001B[0m         )\n\u001B[1;32m    117\u001B[0m         \u001B[0;32mfor\u001B[0m \u001B[0mi\u001B[0m \u001B[0;32min\u001B[0m \u001B[0mrange\u001B[0m\u001B[0;34m(\u001B[0m\u001B[0;36m14\u001B[0m\u001B[0;34m,\u001B[0m \u001B[0;36m19\u001B[0m\u001B[0;34m)\u001B[0m\u001B[0;34m:\u001B[0m\u001B[0;34m\u001B[0m\u001B[0;34m\u001B[0m\u001B[0m\n",
      "\u001B[0;32m~/projets/NASLib/naslib/search_spaces/nasbench201/primitives.py\u001B[0m in \u001B[0;36m__init__\u001B[0;34m(self, C_in, C_out, stride, affine)\u001B[0m\n\u001B[1;32m     25\u001B[0m             self.downsample = nn.Sequential(\n\u001B[1;32m     26\u001B[0m                 \u001B[0mnn\u001B[0m\u001B[0;34m.\u001B[0m\u001B[0mAvgPool2d\u001B[0m\u001B[0;34m(\u001B[0m\u001B[0mkernel_size\u001B[0m\u001B[0;34m=\u001B[0m\u001B[0;36m2\u001B[0m\u001B[0;34m,\u001B[0m \u001B[0mstride\u001B[0m\u001B[0;34m=\u001B[0m\u001B[0;36m2\u001B[0m\u001B[0;34m,\u001B[0m \u001B[0mpadding\u001B[0m\u001B[0;34m=\u001B[0m\u001B[0;36m0\u001B[0m\u001B[0;34m)\u001B[0m\u001B[0;34m,\u001B[0m\u001B[0;34m\u001B[0m\u001B[0;34m\u001B[0m\u001B[0m\n\u001B[0;32m---> 27\u001B[0;31m                 \u001B[0mnn\u001B[0m\u001B[0;34m.\u001B[0m\u001B[0mConv2d\u001B[0m\u001B[0;34m(\u001B[0m\u001B[0mC_in\u001B[0m\u001B[0;34m,\u001B[0m \u001B[0mC_out\u001B[0m\u001B[0;34m,\u001B[0m \u001B[0mkernel_size\u001B[0m\u001B[0;34m=\u001B[0m\u001B[0;36m1\u001B[0m\u001B[0;34m,\u001B[0m \u001B[0mstride\u001B[0m\u001B[0;34m=\u001B[0m\u001B[0;36m1\u001B[0m\u001B[0;34m,\u001B[0m \u001B[0mpadding\u001B[0m\u001B[0;34m=\u001B[0m\u001B[0;36m0\u001B[0m\u001B[0;34m,\u001B[0m \u001B[0mbias\u001B[0m\u001B[0;34m=\u001B[0m\u001B[0;32mFalse\u001B[0m\u001B[0;34m)\u001B[0m\u001B[0;34m,\u001B[0m\u001B[0;34m\u001B[0m\u001B[0;34m\u001B[0m\u001B[0m\n\u001B[0m\u001B[1;32m     28\u001B[0m             )\n\u001B[1;32m     29\u001B[0m         \u001B[0;32melse\u001B[0m\u001B[0;34m:\u001B[0m\u001B[0;34m\u001B[0m\u001B[0;34m\u001B[0m\u001B[0m\n",
      "\u001B[0;32m~/anaconda3/envs/naslib/lib/python3.7/site-packages/torch/nn/modules/container.py\u001B[0m in \u001B[0;36m__init__\u001B[0;34m(self, *args)\u001B[0m\n\u001B[1;32m     83\u001B[0m \u001B[0;34m\u001B[0m\u001B[0m\n\u001B[1;32m     84\u001B[0m     \u001B[0;32mdef\u001B[0m \u001B[0m__init__\u001B[0m\u001B[0;34m(\u001B[0m\u001B[0mself\u001B[0m\u001B[0;34m,\u001B[0m \u001B[0;34m*\u001B[0m\u001B[0margs\u001B[0m\u001B[0;34m)\u001B[0m\u001B[0;34m:\u001B[0m\u001B[0;34m\u001B[0m\u001B[0;34m\u001B[0m\u001B[0m\n\u001B[0;32m---> 85\u001B[0;31m         \u001B[0msuper\u001B[0m\u001B[0;34m(\u001B[0m\u001B[0mSequential\u001B[0m\u001B[0;34m,\u001B[0m \u001B[0mself\u001B[0m\u001B[0;34m)\u001B[0m\u001B[0;34m.\u001B[0m\u001B[0m__init__\u001B[0m\u001B[0;34m(\u001B[0m\u001B[0;34m)\u001B[0m\u001B[0;34m\u001B[0m\u001B[0;34m\u001B[0m\u001B[0m\n\u001B[0m\u001B[1;32m     86\u001B[0m         \u001B[0;32mif\u001B[0m \u001B[0mlen\u001B[0m\u001B[0;34m(\u001B[0m\u001B[0margs\u001B[0m\u001B[0;34m)\u001B[0m \u001B[0;34m==\u001B[0m \u001B[0;36m1\u001B[0m \u001B[0;32mand\u001B[0m \u001B[0misinstance\u001B[0m\u001B[0;34m(\u001B[0m\u001B[0margs\u001B[0m\u001B[0;34m[\u001B[0m\u001B[0;36m0\u001B[0m\u001B[0;34m]\u001B[0m\u001B[0;34m,\u001B[0m \u001B[0mOrderedDict\u001B[0m\u001B[0;34m)\u001B[0m\u001B[0;34m:\u001B[0m\u001B[0;34m\u001B[0m\u001B[0;34m\u001B[0m\u001B[0m\n\u001B[1;32m     87\u001B[0m             \u001B[0;32mfor\u001B[0m \u001B[0mkey\u001B[0m\u001B[0;34m,\u001B[0m \u001B[0mmodule\u001B[0m \u001B[0;32min\u001B[0m \u001B[0margs\u001B[0m\u001B[0;34m[\u001B[0m\u001B[0;36m0\u001B[0m\u001B[0;34m]\u001B[0m\u001B[0;34m.\u001B[0m\u001B[0mitems\u001B[0m\u001B[0;34m(\u001B[0m\u001B[0;34m)\u001B[0m\u001B[0;34m:\u001B[0m\u001B[0;34m\u001B[0m\u001B[0;34m\u001B[0m\u001B[0m\n",
      "\u001B[0;32m~/anaconda3/envs/naslib/lib/python3.7/site-packages/torch/nn/modules/module.py\u001B[0m in \u001B[0;36m__init__\u001B[0;34m(self)\u001B[0m\n\u001B[1;32m    326\u001B[0m         \u001B[0msuper\u001B[0m\u001B[0;34m(\u001B[0m\u001B[0;34m)\u001B[0m\u001B[0;34m.\u001B[0m\u001B[0m__setattr__\u001B[0m\u001B[0;34m(\u001B[0m\u001B[0;34m'_is_full_backward_hook'\u001B[0m\u001B[0;34m,\u001B[0m \u001B[0;32mNone\u001B[0m\u001B[0;34m)\u001B[0m\u001B[0;34m\u001B[0m\u001B[0;34m\u001B[0m\u001B[0m\n\u001B[1;32m    327\u001B[0m         \u001B[0msuper\u001B[0m\u001B[0;34m(\u001B[0m\u001B[0;34m)\u001B[0m\u001B[0;34m.\u001B[0m\u001B[0m__setattr__\u001B[0m\u001B[0;34m(\u001B[0m\u001B[0;34m'_forward_hooks'\u001B[0m\u001B[0;34m,\u001B[0m \u001B[0mOrderedDict\u001B[0m\u001B[0;34m(\u001B[0m\u001B[0;34m)\u001B[0m\u001B[0;34m)\u001B[0m\u001B[0;34m\u001B[0m\u001B[0;34m\u001B[0m\u001B[0m\n\u001B[0;32m--> 328\u001B[0;31m         \u001B[0msuper\u001B[0m\u001B[0;34m(\u001B[0m\u001B[0;34m)\u001B[0m\u001B[0;34m.\u001B[0m\u001B[0m__setattr__\u001B[0m\u001B[0;34m(\u001B[0m\u001B[0;34m'_forward_pre_hooks'\u001B[0m\u001B[0;34m,\u001B[0m \u001B[0mOrderedDict\u001B[0m\u001B[0;34m(\u001B[0m\u001B[0;34m)\u001B[0m\u001B[0;34m)\u001B[0m\u001B[0;34m\u001B[0m\u001B[0;34m\u001B[0m\u001B[0m\n\u001B[0m\u001B[1;32m    329\u001B[0m         \u001B[0msuper\u001B[0m\u001B[0;34m(\u001B[0m\u001B[0;34m)\u001B[0m\u001B[0;34m.\u001B[0m\u001B[0m__setattr__\u001B[0m\u001B[0;34m(\u001B[0m\u001B[0;34m'_state_dict_hooks'\u001B[0m\u001B[0;34m,\u001B[0m \u001B[0mOrderedDict\u001B[0m\u001B[0;34m(\u001B[0m\u001B[0;34m)\u001B[0m\u001B[0;34m)\u001B[0m\u001B[0;34m\u001B[0m\u001B[0;34m\u001B[0m\u001B[0m\n\u001B[1;32m    330\u001B[0m         \u001B[0msuper\u001B[0m\u001B[0;34m(\u001B[0m\u001B[0;34m)\u001B[0m\u001B[0;34m.\u001B[0m\u001B[0m__setattr__\u001B[0m\u001B[0;34m(\u001B[0m\u001B[0;34m'_load_state_dict_pre_hooks'\u001B[0m\u001B[0;34m,\u001B[0m \u001B[0mOrderedDict\u001B[0m\u001B[0;34m(\u001B[0m\u001B[0;34m)\u001B[0m\u001B[0;34m)\u001B[0m\u001B[0;34m\u001B[0m\u001B[0;34m\u001B[0m\u001B[0m\n",
      "\u001B[0;31mKeyboardInterrupt\u001B[0m: "
     ]
    }
   ],
   "execution_count": 5
  },
  {
   "cell_type": "code",
   "id": "44e7478f82ff9c02",
   "metadata": {
    "ExecuteTime": {
     "end_time": "2024-11-26T15:01:37.214953Z",
     "start_time": "2024-11-26T15:01:37.078094Z"
    }
   },
   "source": [
    "sns.scatterplot(x=params, y=accuracies)\n",
    "plt.xlabel(\"Number of parameters\")\n",
    "plt.ylabel(\"Validation accuracy\")\n",
    "plt.title(\"NAS-Bench-201\")\n",
    "plt.show()"
   ],
   "outputs": [
    {
     "data": {
      "text/plain": [
       "<Figure size 640x480 with 1 Axes>"
      ],
      "image/png": "[encoded data removed]"
     },
     "metadata": {},
     "output_type": "display_data"
    }
   ],
   "execution_count": 6
  },
  {
   "cell_type": "code",
   "id": "6f15b08c9e932ab0",
   "metadata": {
    "ExecuteTime": {
     "end_time": "2024-11-26T15:01:40.551775Z",
     "start_time": "2024-11-26T15:01:38.512972Z"
    }
   },
   "source": "from naslib.optimizers.discrete.re.optimizer import RegularizedEvolution",
   "outputs": [],
   "execution_count": 7
  },
  {
   "cell_type": "code",
   "id": "ca3349ed",
   "metadata": {
    "ExecuteTime": {
     "end_time": "2024-11-26T15:01:40.559523Z",
     "start_time": "2024-11-26T15:01:40.556454Z"
    }
   },
   "source": [
    "from yacs.config import CfgNode\n",
    "\n",
    "config = CfgNode()\n",
    "config.dataset = 'cifar10'\n",
    "config.search = CfgNode()\n",
    "config.search.epochs = 10\n",
    "config.search.sample_size = 10\n",
    "config.search.population_size = 10\n",
    "re = RegularizedEvolution(config)"
   ],
   "outputs": [],
   "execution_count": 8
  },
  {
   "metadata": {
    "ExecuteTime": {
     "end_time": "2024-11-26T15:01:41.348433Z",
     "start_time": "2024-11-26T15:01:41.127482Z"
    }
   },
   "cell_type": "code",
   "source": [
    "re.adapt_search_space(nb201.graph.NasBench201SearchSpace())\n",
    "re.dataset_api = dataset_api"
   ],
   "id": "f12e44efac0b184a",
   "outputs": [],
   "execution_count": 9
  },
  {
   "metadata": {
    "ExecuteTime": {
     "end_time": "2024-11-26T15:02:09.087941Z",
     "start_time": "2024-11-26T15:01:55.119816Z"
    }
   },
   "cell_type": "code",
   "source": [
    "from naslib.search_spaces.nasbench201.conversions import convert_naslib_to_str\n",
    "\n",
    "# Run regularized evolution\n",
    "for epoch in tqdm(range(100)):\n",
    "    re.new_epoch(epoch)\n",
    "# Print best architecture\n",
    "str = convert_naslib_to_str(re.get_final_architecture())\n",
    "print(str)\n",
    "print(re.get_final_architecture().query(dataset='cifar10', metric=Metric.VAL_ACCURACY, dataset_api=dataset_api))"
   ],
   "id": "4cd755891746198b",
   "outputs": [
    {
     "name": "stderr",
     "output_type": "stream",
     "text": [
      "100%|██████████| 100/100 [00:13<00:00,  7.16it/s]"
     ]
    },
    {
     "name": "stdout",
     "output_type": "stream",
     "text": [
      "|nor_conv_3x3~0|+|nor_conv_1x1~0|nor_conv_3x3~1|+|skip_connect~0|nor_conv_1x1~1|nor_conv_3x3~2|\n",
      "91.57\n"
     ]
    },
    {
     "name": "stderr",
     "output_type": "stream",
     "text": [
      "\n"
     ]
    }
   ],
   "execution_count": 11
  },
  {
   "metadata": {
    "ExecuteTime": {
     "end_time": "2024-11-26T15:02:12.276396Z",
     "start_time": "2024-11-26T15:02:12.269293Z"
    }
   },
   "cell_type": "code",
   "source": [
    "for h in re.history:\n",
    "    print(h.arch.query(dataset='cifar10', metric=Metric.VAL_ACCURACY, dataset_api=dataset_api))"
   ],
   "id": "8683f63a51d9d7c3",
   "outputs": [
    {
     "name": "stdout",
     "output_type": "stream",
     "text": [
      "91.57\n",
      "91.33\n",
      "91.32\n",
      "91.27\n",
      "91.15\n",
      "90.75\n",
      "90.21\n",
      "89.99\n",
      "89.99\n",
      "89.75\n",
      "86.29\n",
      "89.62\n",
      "89.62\n",
      "90.13\n",
      "88.7\n",
      "89.0\n",
      "89.2\n",
      "88.59\n",
      "88.88\n",
      "87.55\n",
      "90.13\n",
      "88.56\n",
      "89.25\n",
      "88.56\n",
      "90.24\n",
      "89.0\n",
      "89.39\n",
      "89.5\n",
      "88.61\n",
      "89.65\n",
      "89.65\n",
      "88.49\n",
      "90.39\n",
      "89.96\n",
      "87.56\n",
      "89.09\n",
      "89.31\n",
      "89.28\n",
      "88.49\n",
      "90.23\n",
      "90.23\n",
      "88.85\n",
      "89.1\n",
      "86.11\n",
      "87.26\n",
      "78.23\n",
      "90.21\n",
      "89.39\n",
      "86.22\n",
      "82.06\n",
      "88.34\n",
      "88.33\n",
      "88.02\n",
      "83.84\n",
      "88.03\n",
      "87.82\n",
      "88.98\n",
      "88.95\n",
      "87.58\n",
      "71.42\n",
      "88.88\n",
      "86.17\n",
      "89.16\n",
      "89.54\n",
      "87.31\n",
      "89.71\n",
      "89.41\n",
      "88.24\n",
      "89.32\n",
      "90.01\n",
      "88.9\n",
      "89.12\n",
      "89.71\n",
      "88.71\n",
      "89.12\n",
      "88.71\n",
      "89.18\n",
      "87.65\n",
      "88.71\n",
      "87.84\n",
      "89.09\n",
      "87.7\n",
      "87.84\n",
      "88.75\n",
      "89.76\n",
      "89.75\n",
      "90.04\n",
      "88.81\n",
      "89.35\n",
      "88.91\n",
      "89.78\n",
      "89.13\n",
      "89.15\n",
      "89.17\n",
      "88.17\n",
      "88.73\n",
      "88.91\n",
      "89.03\n",
      "88.88\n",
      "88.01\n"
     ]
    }
   ],
   "execution_count": 12
  },
  {
   "metadata": {},
   "cell_type": "markdown",
   "source": [
    "## NAS-Bench-101\n",
    "Let's all continue with NAS-Bench-101."
   ],
   "id": "62e667e166c1498f"
  },
  {
   "metadata": {
    "ExecuteTime": {
     "end_time": "2024-11-26T16:42:08.603735Z",
     "start_time": "2024-11-26T16:42:08.600451Z"
    }
   },
   "cell_type": "code",
   "source": "from naslib.search_spaces import nasbench101 as nb101",
   "id": "66e1ab0f3b56c87",
   "outputs": [],
   "execution_count": 2
  },
  {
   "metadata": {
    "ExecuteTime": {
     "end_time": "2024-11-26T16:42:11.133282Z",
     "start_time": "2024-11-26T16:42:09.196330Z"
    }
   },
   "cell_type": "code",
   "source": "from nasbench import api",
   "id": "6a8023c51bb5a21a",
   "outputs": [
    {
     "name": "stderr",
     "output_type": "stream",
     "text": [
      "2024-11-26 17:42:09.240391: I tensorflow/core/platform/cpu_feature_guard.cc:193] This TensorFlow binary is optimized with oneAPI Deep Neural Network Library (oneDNN) to use the following CPU instructions in performance-critical operations:  AVX2 AVX_VNNI FMA\n",
      "To enable them in other operations, rebuild TensorFlow with the appropriate compiler flags.\n",
      "2024-11-26 17:42:09.487472: I tensorflow/core/util/port.cc:104] oneDNN custom operations are on. You may see slightly different numerical results due to floating-point round-off errors from different computation orders. To turn them off, set the environment variable `TF_ENABLE_ONEDNN_OPTS=0`.\n",
      "2024-11-26 17:42:10.375680: W tensorflow/compiler/xla/stream_executor/platform/default/dso_loader.cc:64] Could not load dynamic library 'libnvinfer.so.7'; dlerror: libnvinfer.so.7: cannot open shared object file: No such file or directory\n",
      "2024-11-26 17:42:10.375810: W tensorflow/compiler/xla/stream_executor/platform/default/dso_loader.cc:64] Could not load dynamic library 'libnvinfer_plugin.so.7'; dlerror: libnvinfer_plugin.so.7: cannot open shared object file: No such file or directory\n",
      "2024-11-26 17:42:10.375821: W tensorflow/compiler/tf2tensorrt/utils/py_utils.cc:38] TF-TRT Warning: Cannot dlopen some TensorRT libraries. If you would like to use Nvidia GPU with TensorRT, please make sure the missing libraries mentioned above are installed properly.\n"
     ]
    }
   ],
   "execution_count": 3
  },
  {
   "metadata": {
    "ExecuteTime": {
     "end_time": "2024-11-26T16:42:11.141749Z",
     "start_time": "2024-11-26T16:42:11.139313Z"
    }
   },
   "cell_type": "code",
   "source": [
    "# Iterate over all possible architectures in Nas-Bench-101 using api\n",
    "# nasbench101_api = api.NASBench('../naslib/data/nasbench_full.tfrecord')"
   ],
   "id": "96267cb07f28c51f",
   "outputs": [],
   "execution_count": 4
  },
  {
   "metadata": {
    "ExecuteTime": {
     "end_time": "2024-11-26T16:45:37.040126Z",
     "start_time": "2024-11-26T16:45:31.646933Z"
    }
   },
   "cell_type": "code",
   "source": [
    "from monet.search_spaces import nasbench101_node\n",
    "from monet.node import Node\n",
    "from naslib.search_spaces.core import Metric\n",
    "import numpy as np\n",
    "import importlib\n",
    "importlib.reload(nasbench101_node)\n",
    "from monet.search_spaces.nasbench101_node import NASBench101Cell\n",
    "\n",
    "node = Node(NASBench101Cell(7))\n",
    "nb101_api = get_dataset_api(\"nasbench101\", 'cifar10')[\"nb101_data\"]\n",
    "# Play random actions until cell completion\n",
    "while not node.state.is_complete():\n",
    "    actions = node.state.get_action_tuples()\n",
    "    action = actions[np.random.randint(len(actions))]\n",
    "    print(action)\n",
    "    node.play_action(action)\n",
    "s = node.get_reward(nb101_api, metric=Metric.VAL_ACCURACY, dataset='cifar10')\n",
    "print(s)"
   ],
   "id": "465825aad1938cae",
   "outputs": [
    {
     "name": "stdout",
     "output_type": "stream",
     "text": [
      "Loading dataset from file... This may take a few minutes...\n",
      "Loaded dataset in 5 seconds\n",
      "(4, 'set_label', 'conv1x1-bn-relu')\n",
      "(6, 'build_edge', 2)\n",
      "(4, 'build_edge', 3)\n",
      "(3, 'build_edge', 2)\n",
      "(6, 'build_edge', 0)\n",
      "(2, 'set_label', 'conv3x3-bn-relu')\n",
      "(2, 'build_edge', 0)\n",
      "(6, 'build_edge', 3)\n",
      "(6, 'build_edge', 1)\n",
      "(5, 'set_label', 'maxpool3x3')\n",
      "(3, 'set_label', 'conv1x1-bn-relu')\n",
      "(1, 'set_label', 'conv3x3-bn-relu')\n",
      "93.97035241127014\n"
     ]
    }
   ],
   "execution_count": 18
  },
  {
   "metadata": {
    "ExecuteTime": {
     "end_time": "2024-11-26T16:49:34.268532Z",
     "start_time": "2024-11-26T16:49:28.725643Z"
    }
   },
   "cell_type": "code",
   "source": [
    "from monet.search_algorithms import mcts_agent\n",
    "from yacs.config import CfgNode\n",
    "importlib.reload(mcts_agent)\n",
    "from monet.search_algorithms.mcts_agent import UCT\n",
    "\n",
    "node = Node(NASBench101Cell(7))\n",
    "config = CfgNode.load_cfg(open('../naslib/configs/uct.yaml'))\n",
    "mcts = UCT(config)\n",
    "mcts.adapt_search_space(\"nasbench101\", \"cifar10\")"
   ],
   "id": "f8fe18416db38d0e",
   "outputs": [
    {
     "name": "stdout",
     "output_type": "stream",
     "text": [
      "Reducing number of iterations\n",
      "Loading dataset from file... This may take a few minutes...\n",
      "Loaded dataset in 5 seconds\n"
     ]
    }
   ],
   "execution_count": 32
  },
  {
   "metadata": {
    "ExecuteTime": {
     "end_time": "2024-11-26T16:49:37.221234Z",
     "start_time": "2024-11-26T16:49:34.315905Z"
    }
   },
   "cell_type": "code",
   "source": "mcts.main_loop()",
   "id": "7a48b21cfb5e85d7",
   "outputs": [
    {
     "name": "stdout",
     "output_type": "stream",
     "text": [
      "(5, 'set_label', 'conv1x1-bn-relu')\n",
      "(2, 'set_label', 'conv3x3-bn-relu')\n",
      "(4, 'set_label', 'maxpool3x3')\n",
      "(4, 'build_edge', 0)\n",
      "(5, 'build_edge', 4)\n",
      "(3, 'set_label', 'conv3x3-bn-relu')\n",
      "(3, 'build_edge', 1)\n",
      "(6, 'build_edge', 3)\n",
      "(3, 'build_edge', 0)\n",
      "(1, 'set_label', 'conv3x3-bn-relu')\n"
     ]
    }
   ],
   "execution_count": 33
  },
  {
   "metadata": {},
   "cell_type": "markdown",
   "source": "### Regularized Evolution",
   "id": "b05e3ba2bdae1bbd"
  },
  {
   "metadata": {
    "ExecuteTime": {
     "end_time": "2024-11-26T16:42:38.582138Z",
     "start_time": "2024-11-26T16:42:36.714296Z"
    }
   },
   "cell_type": "code",
   "source": "from naslib.optimizers.discrete.re.optimizer import RegularizedEvolution",
   "id": "2352c2b72e80173d",
   "outputs": [],
   "execution_count": 8
  },
  {
   "metadata": {
    "ExecuteTime": {
     "end_time": "2024-11-26T16:49:24.452029Z",
     "start_time": "2024-11-26T16:49:13.598966Z"
    }
   },
   "cell_type": "code",
   "source": [
    "from naslib.search_spaces import NasBench101SearchSpace\n",
    "\n",
    "config = CfgNode()\n",
    "config.dataset = 'cifar10'\n",
    "config.search = CfgNode()\n",
    "config.search.epochs = 1000\n",
    "config.search.sample_size = 25\n",
    "config.search.population_size = 100\n",
    "api = get_dataset_api(\"nasbench101\", 'cifar10')\n",
    "# Run RE\n",
    "re = RegularizedEvolution(config)\n",
    "re.adapt_search_space(NasBench101SearchSpace())\n",
    "re.dataset_api = api\n",
    "# Run regularized evolution\n",
    "for epoch in tqdm(range(config.search.epochs)):\n",
    "    re.new_epoch(epoch)\n",
    "final_reward = re.get_final_architecture().query(dataset='cifar10', metric=Metric.VAL_ACCURACY, dataset_api=api)\n",
    "print(f\"RE best reward : {final_reward}\")"
   ],
   "id": "ee223a60272b0d26",
   "outputs": [
    {
     "name": "stdout",
     "output_type": "stream",
     "text": [
      "Loading dataset from file... This may take a few minutes...\n"
     ]
    },
    {
     "ename": "KeyboardInterrupt",
     "evalue": "",
     "output_type": "error",
     "traceback": [
      "\u001B[0;31m---------------------------------------------------------------------------\u001B[0m",
      "\u001B[0;31mKeyboardInterrupt\u001B[0m                         Traceback (most recent call last)",
      "\u001B[0;32m/tmp/ipykernel_159524/2203893493.py\u001B[0m in \u001B[0;36m<module>\u001B[0;34m\u001B[0m\n\u001B[1;32m      7\u001B[0m \u001B[0mconfig\u001B[0m\u001B[0;34m.\u001B[0m\u001B[0msearch\u001B[0m\u001B[0;34m.\u001B[0m\u001B[0msample_size\u001B[0m \u001B[0;34m=\u001B[0m \u001B[0;36m25\u001B[0m\u001B[0;34m\u001B[0m\u001B[0;34m\u001B[0m\u001B[0m\n\u001B[1;32m      8\u001B[0m \u001B[0mconfig\u001B[0m\u001B[0;34m.\u001B[0m\u001B[0msearch\u001B[0m\u001B[0;34m.\u001B[0m\u001B[0mpopulation_size\u001B[0m \u001B[0;34m=\u001B[0m \u001B[0;36m100\u001B[0m\u001B[0;34m\u001B[0m\u001B[0;34m\u001B[0m\u001B[0m\n\u001B[0;32m----> 9\u001B[0;31m \u001B[0mapi\u001B[0m \u001B[0;34m=\u001B[0m \u001B[0mget_dataset_api\u001B[0m\u001B[0;34m(\u001B[0m\u001B[0;34m\"nasbench101\"\u001B[0m\u001B[0;34m,\u001B[0m \u001B[0;34m'cifar10'\u001B[0m\u001B[0;34m)\u001B[0m\u001B[0;34m\u001B[0m\u001B[0;34m\u001B[0m\u001B[0m\n\u001B[0m\u001B[1;32m     10\u001B[0m \u001B[0;31m# Run RE\u001B[0m\u001B[0;34m\u001B[0m\u001B[0;34m\u001B[0m\u001B[0;34m\u001B[0m\u001B[0m\n\u001B[1;32m     11\u001B[0m \u001B[0mre\u001B[0m \u001B[0;34m=\u001B[0m \u001B[0mRegularizedEvolution\u001B[0m\u001B[0;34m(\u001B[0m\u001B[0mconfig\u001B[0m\u001B[0;34m)\u001B[0m\u001B[0;34m\u001B[0m\u001B[0;34m\u001B[0m\u001B[0m\n",
      "\u001B[0;32m~/projets/NASLib/naslib/utils/get_dataset_api.py\u001B[0m in \u001B[0;36mget_dataset_api\u001B[0;34m(search_space, dataset)\u001B[0m\n\u001B[1;32m    188\u001B[0m \u001B[0;34m\u001B[0m\u001B[0m\n\u001B[1;32m    189\u001B[0m     \u001B[0;32mif\u001B[0m \u001B[0msearch_space\u001B[0m \u001B[0;34m==\u001B[0m \u001B[0;34m\"nasbench101\"\u001B[0m\u001B[0;34m:\u001B[0m\u001B[0;34m\u001B[0m\u001B[0;34m\u001B[0m\u001B[0m\n\u001B[0;32m--> 190\u001B[0;31m         \u001B[0;32mreturn\u001B[0m \u001B[0mget_nasbench101_api\u001B[0m\u001B[0;34m(\u001B[0m\u001B[0mdataset\u001B[0m\u001B[0;34m=\u001B[0m\u001B[0mdataset\u001B[0m\u001B[0;34m)\u001B[0m\u001B[0;34m\u001B[0m\u001B[0;34m\u001B[0m\u001B[0m\n\u001B[0m\u001B[1;32m    191\u001B[0m \u001B[0;34m\u001B[0m\u001B[0m\n\u001B[1;32m    192\u001B[0m     \u001B[0;32melif\u001B[0m \u001B[0msearch_space\u001B[0m \u001B[0;34m==\u001B[0m \u001B[0;34m\"nasbench201\"\u001B[0m\u001B[0;34m:\u001B[0m\u001B[0;34m\u001B[0m\u001B[0;34m\u001B[0m\u001B[0m\n",
      "\u001B[0;32m~/projets/NASLib/naslib/utils/get_dataset_api.py\u001B[0m in \u001B[0;36mget_nasbench101_api\u001B[0;34m(dataset)\u001B[0m\n\u001B[1;32m     54\u001B[0m \u001B[0;32mfrom\u001B[0m \u001B[0mhttps\u001B[0m\u001B[0;34m:\u001B[0m\u001B[0;34m//\u001B[0m\u001B[0mdrive\u001B[0m\u001B[0;34m.\u001B[0m\u001B[0mgoogle\u001B[0m\u001B[0;34m.\u001B[0m\u001B[0mcom\u001B[0m\u001B[0;34m/\u001B[0m\u001B[0mdrive\u001B[0m\u001B[0;34m/\u001B[0m\u001B[0mfolders\u001B[0m\u001B[0;34m/\u001B[0m\u001B[0;36m1\u001B[0m\u001B[0mrwmkqyij3I24zn5GSO6fGv2mzdEfPIEa\u001B[0m\u001B[0;31m\"\u001B[0m\u001B[0;34m\u001B[0m\u001B[0;34m\u001B[0m\u001B[0m\n\u001B[1;32m     55\u001B[0m \u001B[0;34m\u001B[0m\u001B[0m\n\u001B[0;32m---> 56\u001B[0;31m     \u001B[0mnb101_data\u001B[0m \u001B[0;34m=\u001B[0m \u001B[0mapi\u001B[0m\u001B[0;34m.\u001B[0m\u001B[0mNASBench\u001B[0m\u001B[0;34m(\u001B[0m\u001B[0mnb101_datapath\u001B[0m\u001B[0;34m)\u001B[0m\u001B[0;34m\u001B[0m\u001B[0;34m\u001B[0m\u001B[0m\n\u001B[0m\u001B[1;32m     57\u001B[0m     \u001B[0;32mreturn\u001B[0m \u001B[0;34m{\u001B[0m\u001B[0;34m\"api\"\u001B[0m\u001B[0;34m:\u001B[0m \u001B[0mapi\u001B[0m\u001B[0;34m,\u001B[0m \u001B[0;34m\"nb101_data\"\u001B[0m\u001B[0;34m:\u001B[0m \u001B[0mnb101_data\u001B[0m\u001B[0;34m}\u001B[0m\u001B[0;34m\u001B[0m\u001B[0;34m\u001B[0m\u001B[0m\n\u001B[1;32m     58\u001B[0m \u001B[0;34m\u001B[0m\u001B[0m\n",
      "\u001B[0;32m~/projets/NASLib/naslib/utils/nb101_api.py\u001B[0m in \u001B[0;36m__init__\u001B[0;34m(self, dataset_file, seed, data_format)\u001B[0m\n\u001B[1;32m    153\u001B[0m     \u001B[0;32melif\u001B[0m \u001B[0mdata_format\u001B[0m \u001B[0;34m==\u001B[0m \u001B[0;34m'pickle'\u001B[0m\u001B[0;34m:\u001B[0m\u001B[0;34m\u001B[0m\u001B[0;34m\u001B[0m\u001B[0m\n\u001B[1;32m    154\u001B[0m         \u001B[0;32mwith\u001B[0m \u001B[0mopen\u001B[0m\u001B[0;34m(\u001B[0m\u001B[0mdataset_file\u001B[0m\u001B[0;34m,\u001B[0m \u001B[0;34m'rb'\u001B[0m\u001B[0;34m)\u001B[0m \u001B[0;32mas\u001B[0m \u001B[0mf\u001B[0m\u001B[0;34m:\u001B[0m\u001B[0;34m\u001B[0m\u001B[0;34m\u001B[0m\u001B[0m\n\u001B[0;32m--> 155\u001B[0;31m             \u001B[0mdata\u001B[0m \u001B[0;34m=\u001B[0m \u001B[0mpickle\u001B[0m\u001B[0;34m.\u001B[0m\u001B[0mload\u001B[0m\u001B[0;34m(\u001B[0m\u001B[0mf\u001B[0m\u001B[0;34m)\u001B[0m\u001B[0;34m\u001B[0m\u001B[0;34m\u001B[0m\u001B[0m\n\u001B[0m\u001B[1;32m    156\u001B[0m         \u001B[0;32mfor\u001B[0m \u001B[0mmodule_hash\u001B[0m\u001B[0;34m,\u001B[0m \u001B[0mstats\u001B[0m \u001B[0;32min\u001B[0m \u001B[0mdata\u001B[0m\u001B[0;34m.\u001B[0m\u001B[0mitems\u001B[0m\u001B[0;34m(\u001B[0m\u001B[0;34m)\u001B[0m\u001B[0;34m:\u001B[0m\u001B[0;34m\u001B[0m\u001B[0;34m\u001B[0m\u001B[0m\n\u001B[1;32m    157\u001B[0m             \u001B[0mself\u001B[0m\u001B[0;34m.\u001B[0m\u001B[0mfixed_statistics\u001B[0m\u001B[0;34m[\u001B[0m\u001B[0mmodule_hash\u001B[0m\u001B[0;34m]\u001B[0m \u001B[0;34m=\u001B[0m \u001B[0mstats\u001B[0m\u001B[0;34m[\u001B[0m\u001B[0;36m0\u001B[0m\u001B[0;34m]\u001B[0m\u001B[0;34m\u001B[0m\u001B[0;34m\u001B[0m\u001B[0m\n",
      "\u001B[0;31mKeyboardInterrupt\u001B[0m: "
     ]
    }
   ],
   "execution_count": 30
  },
  {
   "metadata": {
    "ExecuteTime": {
     "end_time": "2024-11-26T16:49:41.495773Z",
     "start_time": "2024-11-26T16:49:41.379094Z"
    }
   },
   "cell_type": "code",
   "source": [
    "f, ax = plt.subplots(1, 1, figsize=(10, 6))\n",
    "plt.plot(np.array(mcts.best_reward), label=\"MCTS\")\n",
    "plt.plot(re.best_metric, label=\"RE\")\n",
    "plt.legend()"
   ],
   "id": "987f5acd618f190a",
   "outputs": [
    {
     "data": {
      "text/plain": [
       "<matplotlib.legend.Legend at 0x7a90264a0a90>"
      ]
     },
     "execution_count": 34,
     "metadata": {},
     "output_type": "execute_result"
    },
    {
     "data": {
      "text/plain": [
       "<Figure size 1000x600 with 1 Axes>"
      ],
      "image/png": "[encoded data removed]"
     },
     "metadata": {},
     "output_type": "display_data"
    }
   ],
   "execution_count": 34
  },
  {
   "metadata": {},
   "cell_type": "markdown",
   "source": "## BANANAS",
   "id": "2771992e4f8b98a1"
  },
  {
   "metadata": {
    "ExecuteTime": {
     "end_time": "2024-11-26T17:23:45.594607Z",
     "start_time": "2024-11-26T17:23:45.140973Z"
    }
   },
   "cell_type": "code",
   "source": [
    "from naslib.optimizers import Bananas\n",
    "\n",
    "# Run BANANAS\n",
    "config.search.acq_fn_optimization = \"mutation\"\n",
    "config.search.k = 10\n",
    "config.search.num_init = 10\n",
    "config.search.num_ensemble = 3\n",
    "config.search.predictor_type = \"bananas\"\n",
    "config.search.acq_fn_type = \"its\"\n",
    "config.search.encoding_type = \"path\"\n",
    "config.search.num_arches_to_mutate = 1\n",
    "config.search.max_mutations = 1\n",
    "config.search.max_candidates = 200\n",
    "config.search.num_candidates = 50\n",
    "config.search.epochs = 10\n",
    "bananas = Bananas(config)\n",
    "bananas.adapt_search_space(NasBench101SearchSpace())\n",
    "bananas.dataset_api = api\n",
    "# Run Bananas\n",
    "for epoch in tqdm(range(config.search.epochs)):\n",
    "    bananas.new_epoch(epoch)\n",
    "final_reward = bananas.get_final_architecture().query(dataset='cifar10', metric=Metric.VAL_ACCURACY, dataset_api=api)"
   ],
   "id": "e8be4ad8ebaa7e79",
   "outputs": [
    {
     "name": "stderr",
     "output_type": "stream",
     "text": [
      "100%|██████████| 10/10 [00:00<00:00, 22.61it/s]\n"
     ]
    }
   ],
   "execution_count": 38
  },
  {
   "metadata": {
    "ExecuteTime": {
     "end_time": "2024-11-26T17:27:21.129905Z",
     "start_time": "2024-11-26T17:27:21.123416Z"
    }
   },
   "cell_type": "code",
   "source": "print(bananas.history)",
   "id": "c4525716d7ad8eca",
   "outputs": [
    {
     "name": "stdout",
     "output_type": "stream",
     "text": [
      "[]\n"
     ]
    }
   ],
   "execution_count": 41
  },
  {
   "metadata": {
    "ExecuteTime": {
     "end_time": "2024-11-26T17:23:59.956721Z",
     "start_time": "2024-11-26T17:23:59.843173Z"
    }
   },
   "cell_type": "code",
   "source": "plt.plot(bananas.best_metric)",
   "id": "767ef69d4f5f4e6a",
   "outputs": [
    {
     "data": {
      "text/plain": [
       "[<matplotlib.lines.Line2D at 0x7a90285bd8d0>]"
      ]
     },
     "execution_count": 40,
     "metadata": {},
     "output_type": "execute_result"
    },
    {
     "data": {
      "text/plain": [
       "<Figure size 640x480 with 1 Axes>"
      ],
      "image/png": "[encoded data removed]"
     },
     "metadata": {},
     "output_type": "display_data"
    }
   ],
   "execution_count": 40
  }
 ],
 "metadata": {
  "kernelspec": {
   "display_name": "Python 3 (ipykernel)",
   "language": "python",
   "name": "python3"
  },
  "language_info": {
   "codemirror_mode": {
    "name": "ipython",
    "version": 3
   },
   "file_extension": ".py",
   "mimetype": "text/x-python",
   "name": "python",
   "nbconvert_exporter": "python",
   "pygments_lexer": "ipython3",
   "version": "3.7.12"
  }
 },
 "nbformat": 4,
 "nbformat_minor": 5
}
